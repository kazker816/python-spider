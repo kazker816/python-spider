{
 "cells": [
  {
   "cell_type": "code",
   "execution_count": 4,
   "metadata": {
    "scrolled": true
   },
   "outputs": [
    {
     "name": "stdout",
     "output_type": "stream",
     "text": [
      "一共保存了25条详细页面的url信息\n",
      "任务已完成:4.00%   https://www.dytt8.net/html/gndy/dyzz/20190208/58192.html  保存失败\n",
      "任务已完成:12.00%   https://www.dytt8.net/html/gndy/dyzz/20190207/58183.html  保存失败\n",
      "任务已完成:20.00%   https://www.dytt8.net/html/gndy/dyzz/20190207/58180.html  保存失败\n",
      "任务已完成:40.00%   https://www.dytt8.net/html/gndy/dyzz/20190204/58152.html  保存失败\n",
      "任务已完成:44.00%   https://www.dytt8.net/html/gndy/dyzz/20190204/58151.html  保存失败\n",
      "任务已完成:48.00%   https://www.dytt8.net/html/gndy/dyzz/20190203/58146.html  保存失败\n",
      "任务已完成:64.00%   https://www.dytt8.net/html/gndy/dyzz/20190201/58135.html  保存失败\n",
      "任务已完成:76.00%   https://www.dytt8.net/html/gndy/dyzz/20190129/58127.html  保存失败\n",
      "任务已完成:88.00%   https://www.dytt8.net/html/gndy/dyzz/20190127/58119.html  保存失败\n",
      "任务已完成:100.00%   \n",
      "\n",
      "************请稍等，正在尝试连接失败的url**************\n",
      "\n",
      "\n",
      "第1次尝试连接失败的url,共9个.\n",
      "第2次尝试连接失败的url,共3个.\n",
      "第3次尝试连接失败的url,共1个.\n",
      "\n",
      "保存失败的url如下：\n",
      "['https://www.dytt8.net/html/gndy/dyzz/20190207/58180.html']\n"
     ]
    }
   ],
   "source": [
    "import requests\n",
    "from lxml import etree\n",
    "from bs4 import BeautifulSoup\n",
    "def get_html_text(url,headers,timeout=5):\n",
    "    resp = requests.get(url,headers =headers,timeout=timeout)\n",
    "    resp.encoding = 'gbk'\n",
    "    return resp.text\n",
    "\n",
    "def get_detail_url(text):\n",
    "    parser = etree.HTMLParser(encoding = 'gbk')\n",
    "    html = etree.HTML(text,parser=parser)\n",
    "    movies = html.xpath('//table[@class=\"tbspan\"]')\n",
    "    url_list = []\n",
    "    for movie in movies:\n",
    "        detail_url ='https://www.dytt8.net' + movie.xpath('.//a[@class=\"ulink\"]/@href')[0]\n",
    "        url_list.append(detail_url)\n",
    "    return url_list\n",
    "\n",
    "def parse_detail_url(url,headers):\n",
    "    text = get_html_text(url,headers)\n",
    "    \n",
    "    \"\"\"  BeautifulSoup版本\n",
    "    soup = BeautifulSoup(text,'lxml')\n",
    "    movie = {}\n",
    "    zoom = soup.select_one('div#Zoom')   # zoom = soup.find('div',id='Zoom')\n",
    "    imgs = zoom('img',border=\"0\")\n",
    "    movie['poster'] = imgs[0]['src']\n",
    "    movie['stills'] = imgs[1]['src']\n",
    "    movie_string_list= list(zoom.stripped_strings)\n",
    "    \"\"\"\n",
    "    \"\"\" Xpath解析\n",
    "    html = etree.HTML(text)\n",
    "    movie = {}\n",
    "    zoom = html.xpath('//div[@id=\"Zoom\"]')[0]\n",
    "    imgs = zoom.xpath('.//img/@src')\n",
    "    movie['poster'] = imgs[0]\n",
    "    movie['stills'] = imgs[1]\n",
    "    movie_string_list = zoom.xpath('.//text()')\n",
    "    \"\"\"\n",
    "    \n",
    "    lens = len(movie_string_list)\n",
    "    for index,value in enumerate(movie_string_list):\n",
    "        if value.startswith('◎片　　名'):\n",
    "            movie['name'] = value.replace('◎片　　名','').strip()\n",
    "        elif value.startswith('◎译　　名'):\n",
    "            movie['translation_name'] = value.replace('◎译　　名','').strip()\n",
    "        elif value.startswith('◎主　　演'):\n",
    "            actors = []\n",
    "            for i in range(index,lens):\n",
    "                judge_string = movie_string_list[i]\n",
    "                if judge_string.startswith('◎主　　演') or (not(judge_string.startswith('◎'))):\n",
    "                    actor = judge_string.replace('◎主　　演','').strip()\n",
    "                    actors.append(actor)\n",
    "                else:\n",
    "                    break\n",
    "            movie['actors'] = actors\n",
    "        else:\n",
    "            for i in range(index,lens):\n",
    "                judge_string = movie_string_list[i]\n",
    "                if judge_string.startswith('◎简　　介'):\n",
    "                    movie['introduction'] = movie_string_list[i+1].strip()\n",
    "                    break\n",
    "    return movie\n",
    "\n",
    "if __name__ == '__main__':\n",
    "    url = 'https://www.dytt8.net/html/gndy/dyzz/list_23_{}.html'\n",
    "    headers = {\n",
    "    'User-Agent':'Mozilla/5.0 (Windows NT 10.0; Win64; x64) AppleWebKit/537.36 (KHTML, like Gecko) Chrome/71.0.3578.98 Safari/537.36'\n",
    "    }\n",
    "    detail_urls = []\n",
    "    for i in range(1):\n",
    "        try:\n",
    "            every_url = url.format(i+1)\n",
    "            urltext = get_html_text(every_url,headers,timeout=30)\n",
    "            url_list = get_detail_url(urltext)\n",
    "            detail_urls.extend(url_list)\n",
    "        except:\n",
    "            print('第{}页保存失败'.format(i+1))\n",
    "    print('一共保存了{}条详细页面的url信息'.format(len(detail_urls)))\n",
    "    data = []\n",
    "    num_url = len(detail_urls)\n",
    "    fail_url = []\n",
    "    for index,every_url in enumerate(detail_urls):\n",
    "        print('\\r任务已完成:{:.2f}%'.format(100*(index+1)/num_url),end = '   ')\n",
    "        try:\n",
    "            data.append(parse_detail_url(every_url,headers))\n",
    "        except:\n",
    "            print(every_url + '  保存失败')\n",
    "            fail_url.append(every_url)\n",
    "    print('\\n\\n************请稍等，正在尝试连接失败的url**************\\n\\n')\n",
    "    maxtry = 3\n",
    "    while maxtry and len(fail_url):\n",
    "        maxtry -= 1\n",
    "        print('第{}次尝试连接失败的url,共{}个.'.format(3-maxtry,len(fail_url)))\n",
    "        for every_url in fail_url[:]:   #这个位置很细节哦，这里千万别写成了fail_url\n",
    "            try:\n",
    "                data.append(parse_detail_url(every_url,headers))\n",
    "                fail_url.remove(every_url)\n",
    "            except:\n",
    "                pass\n",
    "    \n",
    "    print('\\n保存失败的url如下：')    \n",
    "    print(fail_url)"
   ]
  },
  {
   "cell_type": "code",
   "execution_count": 2,
   "metadata": {},
   "outputs": [
    {
     "name": "stdout",
     "output_type": "stream",
     "text": [
      "['https://www.dytt8.net/html/gndy/dyzz/20190208/58192.html', 'https://www.dytt8.net/html/gndy/dyzz/20190208/58191.html', 'https://www.dytt8.net/html/gndy/dyzz/20190207/58183.html', 'https://www.dytt8.net/html/gndy/dyzz/20190207/58182.html', 'https://www.dytt8.net/html/gndy/dyzz/20190207/58180.html', 'https://www.dytt8.net/html/gndy/dyzz/20190206/58176.html', 'https://www.dytt8.net/html/gndy/dyzz/20190206/58175.html', 'https://www.dytt8.net/html/gndy/dyzz/20190205/58165.html', 'https://www.dytt8.net/html/gndy/dyzz/20190204/58153.html', 'https://www.dytt8.net/html/gndy/dyzz/20190204/58152.html', 'https://www.dytt8.net/html/gndy/dyzz/20190204/58151.html', 'https://www.dytt8.net/html/gndy/dyzz/20190203/58146.html', 'https://www.dytt8.net/html/gndy/dyzz/20190202/58138.html', 'https://www.dytt8.net/html/gndy/dyzz/20190202/58137.html', 'https://www.dytt8.net/html/gndy/dyzz/20190202/58136.html', 'https://www.dytt8.net/html/gndy/dyzz/20190201/58135.html', 'https://www.dytt8.net/html/gndy/dyzz/20190131/58131.html', 'https://www.dytt8.net/html/gndy/dyzz/20190129/58128.html', 'https://www.dytt8.net/html/gndy/dyzz/20190129/58127.html', 'https://www.dytt8.net/html/gndy/dyzz/20190128/58123.html', 'https://www.dytt8.net/html/gndy/dyzz/20190128/58122.html', 'https://www.dytt8.net/html/gndy/dyzz/20190127/58119.html', 'https://www.dytt8.net/html/gndy/dyzz/20190127/58118.html', 'https://www.dytt8.net/html/gndy/dyzz/20190126/58116.html', 'https://www.dytt8.net/html/gndy/dyzz/20190126/58115.html', 'https://www.dytt8.net/html/gndy/dyzz/20190125/58112.html', 'https://www.dytt8.net/html/gndy/dyzz/20190125/58111.html', 'https://www.dytt8.net/html/gndy/dyzz/20190125/58110.html', 'https://www.dytt8.net/html/gndy/dyzz/20190124/58109.html', 'https://www.dytt8.net/html/gndy/dyzz/20190122/58103.html', 'https://www.dytt8.net/html/gndy/dyzz/20190122/58102.html', 'https://www.dytt8.net/html/gndy/dyzz/20190122/58101.html', 'https://www.dytt8.net/html/gndy/dyzz/20190121/58100.html', 'https://www.dytt8.net/html/gndy/dyzz/20190121/58099.html', 'https://www.dytt8.net/html/gndy/dyzz/20190121/58098.html', 'https://www.dytt8.net/html/gndy/dyzz/20190120/58097.html', 'https://www.dytt8.net/html/gndy/dyzz/20190119/58095.html', 'https://www.dytt8.net/html/gndy/dyzz/20190119/58094.html', 'https://www.dytt8.net/html/gndy/dyzz/20190118/58093.html', 'https://www.dytt8.net/html/gndy/dyzz/20190118/58092.html', 'https://www.dytt8.net/html/gndy/dyzz/20190117/58089.html', 'https://www.dytt8.net/html/gndy/dyzz/20190117/58088.html', 'https://www.dytt8.net/html/gndy/dyzz/20190115/58085.html', 'https://www.dytt8.net/html/gndy/dyzz/20190115/58084.html', 'https://www.dytt8.net/html/gndy/dyzz/20190114/58082.html', 'https://www.dytt8.net/html/gndy/dyzz/20190113/58077.html', 'https://www.dytt8.net/html/gndy/dyzz/20190113/58076.html', 'https://www.dytt8.net/html/gndy/dyzz/20190112/58072.html', 'https://www.dytt8.net/html/gndy/dyzz/20190112/58071.html', 'https://www.dytt8.net/html/gndy/dyzz/20190111/58068.html', 'https://www.dytt8.net/html/gndy/dyzz/20190110/58064.html', 'https://www.dytt8.net/html/gndy/dyzz/20190110/58063.html', 'https://www.dytt8.net/html/gndy/dyzz/20190109/58059.html', 'https://www.dytt8.net/html/gndy/dyzz/20190109/58058.html', 'https://www.dytt8.net/html/gndy/dyzz/20190108/58055.html', 'https://www.dytt8.net/html/gndy/dyzz/20190108/58054.html', 'https://www.dytt8.net/html/gndy/dyzz/20190107/58038.html', 'https://www.dytt8.net/html/gndy/dyzz/20190107/58037.html', 'https://www.dytt8.net/html/gndy/dyzz/20190104/58019.html', 'https://www.dytt8.net/html/gndy/dyzz/20190104/58018.html', 'https://www.dytt8.net/html/gndy/dyzz/20190104/58017.html', 'https://www.dytt8.net/html/gndy/dyzz/20190103/58015.html', 'https://www.dytt8.net/html/gndy/dyzz/20190103/58014.html', 'https://www.dytt8.net/html/gndy/dyzz/20190101/58000.html', 'https://www.dytt8.net/html/gndy/dyzz/20190101/57999.html', 'https://www.dytt8.net/html/gndy/dyzz/20190101/57998.html', 'https://www.dytt8.net/html/gndy/dyzz/20181231/57997.html', 'https://www.dytt8.net/html/gndy/dyzz/20181231/57996.html', 'https://www.dytt8.net/html/gndy/dyzz/20181228/57986.html', 'https://www.dytt8.net/html/gndy/dyzz/20181226/57982.html', 'https://www.dytt8.net/html/gndy/dyzz/20181225/57979.html', 'https://www.dytt8.net/html/gndy/dyzz/20181224/57977.html', 'https://www.dytt8.net/html/gndy/dyzz/20181224/57976.html', 'https://www.dytt8.net/html/gndy/dyzz/20181223/57972.html', 'https://www.dytt8.net/html/gndy/dyzz/20181223/57971.html']\n"
     ]
    }
   ],
   "source": [
    "print(detail_urls)"
   ]
  },
  {
   "cell_type": "code",
   "execution_count": 53,
   "metadata": {},
   "outputs": [
    {
     "name": "stdout",
     "output_type": "stream",
     "text": [
      "[3]\n",
      "[5]\n"
     ]
    }
   ],
   "source": [
    "def aaa(num):\n",
    "    a = []\n",
    "    a.append(num)\n",
    "    return a\n",
    "\n",
    "list1 = aaa(3)\n",
    "print(list1)\n",
    "list2 =aaa(5)\n",
    "print(list2)"
   ]
  },
  {
   "cell_type": "code",
   "execution_count": 77,
   "metadata": {
    "scrolled": true
   },
   "outputs": [
    {
     "ename": "ConnectTimeout",
     "evalue": "HTTPSConnectionPool(host='www.dytt8.net', port=443): Max retries exceeded with url: /html/gndy/dyzz/20190208/58192.html (Caused by ConnectTimeoutError(<urllib3.connection.VerifiedHTTPSConnection object at 0x00000276B1472F60>, 'Connection to www.dytt8.net timed out. (connect timeout=10)'))",
     "output_type": "error",
     "traceback": [
      "\u001b[1;31m---------------------------------------------------------------------------\u001b[0m",
      "\u001b[1;31mtimeout\u001b[0m                                   Traceback (most recent call last)",
      "\u001b[1;32m~\\Anaconda3\\lib\\site-packages\\urllib3\\connection.py\u001b[0m in \u001b[0;36m_new_conn\u001b[1;34m(self)\u001b[0m\n\u001b[0;32m    158\u001b[0m             conn = connection.create_connection(\n\u001b[1;32m--> 159\u001b[1;33m                 (self._dns_host, self.port), self.timeout, **extra_kw)\n\u001b[0m\u001b[0;32m    160\u001b[0m \u001b[1;33m\u001b[0m\u001b[0m\n",
      "\u001b[1;32m~\\Anaconda3\\lib\\site-packages\\urllib3\\util\\connection.py\u001b[0m in \u001b[0;36mcreate_connection\u001b[1;34m(address, timeout, source_address, socket_options)\u001b[0m\n\u001b[0;32m     79\u001b[0m     \u001b[1;32mif\u001b[0m \u001b[0merr\u001b[0m \u001b[1;32mis\u001b[0m \u001b[1;32mnot\u001b[0m \u001b[1;32mNone\u001b[0m\u001b[1;33m:\u001b[0m\u001b[1;33m\u001b[0m\u001b[0m\n\u001b[1;32m---> 80\u001b[1;33m         \u001b[1;32mraise\u001b[0m \u001b[0merr\u001b[0m\u001b[1;33m\u001b[0m\u001b[0m\n\u001b[0m\u001b[0;32m     81\u001b[0m \u001b[1;33m\u001b[0m\u001b[0m\n",
      "\u001b[1;32m~\\Anaconda3\\lib\\site-packages\\urllib3\\util\\connection.py\u001b[0m in \u001b[0;36mcreate_connection\u001b[1;34m(address, timeout, source_address, socket_options)\u001b[0m\n\u001b[0;32m     69\u001b[0m                 \u001b[0msock\u001b[0m\u001b[1;33m.\u001b[0m\u001b[0mbind\u001b[0m\u001b[1;33m(\u001b[0m\u001b[0msource_address\u001b[0m\u001b[1;33m)\u001b[0m\u001b[1;33m\u001b[0m\u001b[0m\n\u001b[1;32m---> 70\u001b[1;33m             \u001b[0msock\u001b[0m\u001b[1;33m.\u001b[0m\u001b[0mconnect\u001b[0m\u001b[1;33m(\u001b[0m\u001b[0msa\u001b[0m\u001b[1;33m)\u001b[0m\u001b[1;33m\u001b[0m\u001b[0m\n\u001b[0m\u001b[0;32m     71\u001b[0m             \u001b[1;32mreturn\u001b[0m \u001b[0msock\u001b[0m\u001b[1;33m\u001b[0m\u001b[0m\n",
      "\u001b[1;31mtimeout\u001b[0m: timed out",
      "\nDuring handling of the above exception, another exception occurred:\n",
      "\u001b[1;31mConnectTimeoutError\u001b[0m                       Traceback (most recent call last)",
      "\u001b[1;32m~\\Anaconda3\\lib\\site-packages\\urllib3\\connectionpool.py\u001b[0m in \u001b[0;36murlopen\u001b[1;34m(self, method, url, body, headers, retries, redirect, assert_same_host, timeout, pool_timeout, release_conn, chunked, body_pos, **response_kw)\u001b[0m\n\u001b[0;32m    599\u001b[0m                                                   \u001b[0mbody\u001b[0m\u001b[1;33m=\u001b[0m\u001b[0mbody\u001b[0m\u001b[1;33m,\u001b[0m \u001b[0mheaders\u001b[0m\u001b[1;33m=\u001b[0m\u001b[0mheaders\u001b[0m\u001b[1;33m,\u001b[0m\u001b[1;33m\u001b[0m\u001b[0m\n\u001b[1;32m--> 600\u001b[1;33m                                                   chunked=chunked)\n\u001b[0m\u001b[0;32m    601\u001b[0m \u001b[1;33m\u001b[0m\u001b[0m\n",
      "\u001b[1;32m~\\Anaconda3\\lib\\site-packages\\urllib3\\connectionpool.py\u001b[0m in \u001b[0;36m_make_request\u001b[1;34m(self, conn, method, url, timeout, chunked, **httplib_request_kw)\u001b[0m\n\u001b[0;32m    342\u001b[0m         \u001b[1;32mtry\u001b[0m\u001b[1;33m:\u001b[0m\u001b[1;33m\u001b[0m\u001b[0m\n\u001b[1;32m--> 343\u001b[1;33m             \u001b[0mself\u001b[0m\u001b[1;33m.\u001b[0m\u001b[0m_validate_conn\u001b[0m\u001b[1;33m(\u001b[0m\u001b[0mconn\u001b[0m\u001b[1;33m)\u001b[0m\u001b[1;33m\u001b[0m\u001b[0m\n\u001b[0m\u001b[0;32m    344\u001b[0m         \u001b[1;32mexcept\u001b[0m \u001b[1;33m(\u001b[0m\u001b[0mSocketTimeout\u001b[0m\u001b[1;33m,\u001b[0m \u001b[0mBaseSSLError\u001b[0m\u001b[1;33m)\u001b[0m \u001b[1;32mas\u001b[0m \u001b[0me\u001b[0m\u001b[1;33m:\u001b[0m\u001b[1;33m\u001b[0m\u001b[0m\n",
      "\u001b[1;32m~\\Anaconda3\\lib\\site-packages\\urllib3\\connectionpool.py\u001b[0m in \u001b[0;36m_validate_conn\u001b[1;34m(self, conn)\u001b[0m\n\u001b[0;32m    838\u001b[0m         \u001b[1;32mif\u001b[0m \u001b[1;32mnot\u001b[0m \u001b[0mgetattr\u001b[0m\u001b[1;33m(\u001b[0m\u001b[0mconn\u001b[0m\u001b[1;33m,\u001b[0m \u001b[1;34m'sock'\u001b[0m\u001b[1;33m,\u001b[0m \u001b[1;32mNone\u001b[0m\u001b[1;33m)\u001b[0m\u001b[1;33m:\u001b[0m  \u001b[1;31m# AppEngine might not have  `.sock`\u001b[0m\u001b[1;33m\u001b[0m\u001b[0m\n\u001b[1;32m--> 839\u001b[1;33m             \u001b[0mconn\u001b[0m\u001b[1;33m.\u001b[0m\u001b[0mconnect\u001b[0m\u001b[1;33m(\u001b[0m\u001b[1;33m)\u001b[0m\u001b[1;33m\u001b[0m\u001b[0m\n\u001b[0m\u001b[0;32m    840\u001b[0m \u001b[1;33m\u001b[0m\u001b[0m\n",
      "\u001b[1;32m~\\Anaconda3\\lib\\site-packages\\urllib3\\connection.py\u001b[0m in \u001b[0;36mconnect\u001b[1;34m(self)\u001b[0m\n\u001b[0;32m    300\u001b[0m         \u001b[1;31m# Add certificate verification\u001b[0m\u001b[1;33m\u001b[0m\u001b[1;33m\u001b[0m\u001b[0m\n\u001b[1;32m--> 301\u001b[1;33m         \u001b[0mconn\u001b[0m \u001b[1;33m=\u001b[0m \u001b[0mself\u001b[0m\u001b[1;33m.\u001b[0m\u001b[0m_new_conn\u001b[0m\u001b[1;33m(\u001b[0m\u001b[1;33m)\u001b[0m\u001b[1;33m\u001b[0m\u001b[0m\n\u001b[0m\u001b[0;32m    302\u001b[0m         \u001b[0mhostname\u001b[0m \u001b[1;33m=\u001b[0m \u001b[0mself\u001b[0m\u001b[1;33m.\u001b[0m\u001b[0mhost\u001b[0m\u001b[1;33m\u001b[0m\u001b[0m\n",
      "\u001b[1;32m~\\Anaconda3\\lib\\site-packages\\urllib3\\connection.py\u001b[0m in \u001b[0;36m_new_conn\u001b[1;34m(self)\u001b[0m\n\u001b[0;32m    163\u001b[0m                 \u001b[0mself\u001b[0m\u001b[1;33m,\u001b[0m \u001b[1;34m\"Connection to %s timed out. (connect timeout=%s)\"\u001b[0m \u001b[1;33m%\u001b[0m\u001b[1;33m\u001b[0m\u001b[0m\n\u001b[1;32m--> 164\u001b[1;33m                 (self.host, self.timeout))\n\u001b[0m\u001b[0;32m    165\u001b[0m \u001b[1;33m\u001b[0m\u001b[0m\n",
      "\u001b[1;31mConnectTimeoutError\u001b[0m: (<urllib3.connection.VerifiedHTTPSConnection object at 0x00000276B1472F60>, 'Connection to www.dytt8.net timed out. (connect timeout=10)')",
      "\nDuring handling of the above exception, another exception occurred:\n",
      "\u001b[1;31mMaxRetryError\u001b[0m                             Traceback (most recent call last)",
      "\u001b[1;32m~\\Anaconda3\\lib\\site-packages\\requests\\adapters.py\u001b[0m in \u001b[0;36msend\u001b[1;34m(self, request, stream, timeout, verify, cert, proxies)\u001b[0m\n\u001b[0;32m    448\u001b[0m                     \u001b[0mretries\u001b[0m\u001b[1;33m=\u001b[0m\u001b[0mself\u001b[0m\u001b[1;33m.\u001b[0m\u001b[0mmax_retries\u001b[0m\u001b[1;33m,\u001b[0m\u001b[1;33m\u001b[0m\u001b[0m\n\u001b[1;32m--> 449\u001b[1;33m                     \u001b[0mtimeout\u001b[0m\u001b[1;33m=\u001b[0m\u001b[0mtimeout\u001b[0m\u001b[1;33m\u001b[0m\u001b[0m\n\u001b[0m\u001b[0;32m    450\u001b[0m                 )\n",
      "\u001b[1;32m~\\Anaconda3\\lib\\site-packages\\urllib3\\connectionpool.py\u001b[0m in \u001b[0;36murlopen\u001b[1;34m(self, method, url, body, headers, retries, redirect, assert_same_host, timeout, pool_timeout, release_conn, chunked, body_pos, **response_kw)\u001b[0m\n\u001b[0;32m    637\u001b[0m             retries = retries.increment(method, url, error=e, _pool=self,\n\u001b[1;32m--> 638\u001b[1;33m                                         _stacktrace=sys.exc_info()[2])\n\u001b[0m\u001b[0;32m    639\u001b[0m             \u001b[0mretries\u001b[0m\u001b[1;33m.\u001b[0m\u001b[0msleep\u001b[0m\u001b[1;33m(\u001b[0m\u001b[1;33m)\u001b[0m\u001b[1;33m\u001b[0m\u001b[0m\n",
      "\u001b[1;32m~\\Anaconda3\\lib\\site-packages\\urllib3\\util\\retry.py\u001b[0m in \u001b[0;36mincrement\u001b[1;34m(self, method, url, response, error, _pool, _stacktrace)\u001b[0m\n\u001b[0;32m    397\u001b[0m         \u001b[1;32mif\u001b[0m \u001b[0mnew_retry\u001b[0m\u001b[1;33m.\u001b[0m\u001b[0mis_exhausted\u001b[0m\u001b[1;33m(\u001b[0m\u001b[1;33m)\u001b[0m\u001b[1;33m:\u001b[0m\u001b[1;33m\u001b[0m\u001b[0m\n\u001b[1;32m--> 398\u001b[1;33m             \u001b[1;32mraise\u001b[0m \u001b[0mMaxRetryError\u001b[0m\u001b[1;33m(\u001b[0m\u001b[0m_pool\u001b[0m\u001b[1;33m,\u001b[0m \u001b[0murl\u001b[0m\u001b[1;33m,\u001b[0m \u001b[0merror\u001b[0m \u001b[1;32mor\u001b[0m \u001b[0mResponseError\u001b[0m\u001b[1;33m(\u001b[0m\u001b[0mcause\u001b[0m\u001b[1;33m)\u001b[0m\u001b[1;33m)\u001b[0m\u001b[1;33m\u001b[0m\u001b[0m\n\u001b[0m\u001b[0;32m    399\u001b[0m \u001b[1;33m\u001b[0m\u001b[0m\n",
      "\u001b[1;31mMaxRetryError\u001b[0m: HTTPSConnectionPool(host='www.dytt8.net', port=443): Max retries exceeded with url: /html/gndy/dyzz/20190208/58192.html (Caused by ConnectTimeoutError(<urllib3.connection.VerifiedHTTPSConnection object at 0x00000276B1472F60>, 'Connection to www.dytt8.net timed out. (connect timeout=10)'))",
      "\nDuring handling of the above exception, another exception occurred:\n",
      "\u001b[1;31mConnectTimeout\u001b[0m                            Traceback (most recent call last)",
      "\u001b[1;32m<ipython-input-77-c31af86f56e6>\u001b[0m in \u001b[0;36m<module>\u001b[1;34m\u001b[0m\n\u001b[0;32m     23\u001b[0m     \u001b[1;34m'User-Agent'\u001b[0m\u001b[1;33m:\u001b[0m\u001b[1;34m'Mozilla/5.0 (Windows NT 10.0; Win64; x64) AppleWebKit/537.36 (KHTML, like Gecko) Chrome/71.0.3578.98 Safari/537.36'\u001b[0m\u001b[1;33m\u001b[0m\u001b[0m\n\u001b[0;32m     24\u001b[0m     }\n\u001b[1;32m---> 25\u001b[1;33m     \u001b[0mprint\u001b[0m\u001b[1;33m(\u001b[0m\u001b[0mparse_detail_url\u001b[0m\u001b[1;33m(\u001b[0m\u001b[0murl\u001b[0m\u001b[1;33m,\u001b[0m\u001b[0mheaders\u001b[0m\u001b[1;33m)\u001b[0m\u001b[1;33m)\u001b[0m\u001b[1;33m\u001b[0m\u001b[0m\n\u001b[0m",
      "\u001b[1;32m<ipython-input-77-c31af86f56e6>\u001b[0m in \u001b[0;36mparse_detail_url\u001b[1;34m(url, headers)\u001b[0m\n\u001b[0;32m      6\u001b[0m     \u001b[1;32mreturn\u001b[0m \u001b[0mresp\u001b[0m\u001b[1;33m.\u001b[0m\u001b[0mtext\u001b[0m\u001b[1;33m\u001b[0m\u001b[0m\n\u001b[0;32m      7\u001b[0m \u001b[1;32mdef\u001b[0m \u001b[0mparse_detail_url\u001b[0m\u001b[1;33m(\u001b[0m\u001b[0murl\u001b[0m\u001b[1;33m,\u001b[0m\u001b[0mheaders\u001b[0m\u001b[1;33m)\u001b[0m\u001b[1;33m:\u001b[0m\u001b[1;33m\u001b[0m\u001b[0m\n\u001b[1;32m----> 8\u001b[1;33m     \u001b[0mtext\u001b[0m \u001b[1;33m=\u001b[0m \u001b[0mget_html_text\u001b[0m\u001b[1;33m(\u001b[0m\u001b[0murl\u001b[0m\u001b[1;33m,\u001b[0m\u001b[0mheaders\u001b[0m\u001b[1;33m)\u001b[0m\u001b[1;33m\u001b[0m\u001b[0m\n\u001b[0m\u001b[0;32m      9\u001b[0m     \u001b[0msoup\u001b[0m \u001b[1;33m=\u001b[0m \u001b[0mBeautifulSoup\u001b[0m\u001b[1;33m(\u001b[0m\u001b[0mtext\u001b[0m\u001b[1;33m,\u001b[0m\u001b[1;34m'html'\u001b[0m\u001b[1;33m)\u001b[0m\u001b[1;33m\u001b[0m\u001b[0m\n\u001b[0;32m     10\u001b[0m     \u001b[0mmovie\u001b[0m \u001b[1;33m=\u001b[0m \u001b[1;33m{\u001b[0m\u001b[1;33m}\u001b[0m\u001b[1;33m\u001b[0m\u001b[0m\n",
      "\u001b[1;32m<ipython-input-77-c31af86f56e6>\u001b[0m in \u001b[0;36mget_html_text\u001b[1;34m(url, headers, timeout)\u001b[0m\n\u001b[0;32m      2\u001b[0m \u001b[1;32mfrom\u001b[0m \u001b[0mbs4\u001b[0m \u001b[1;32mimport\u001b[0m \u001b[0mBeautifulSoup\u001b[0m\u001b[1;33m\u001b[0m\u001b[0m\n\u001b[0;32m      3\u001b[0m \u001b[1;32mdef\u001b[0m \u001b[0mget_html_text\u001b[0m\u001b[1;33m(\u001b[0m\u001b[0murl\u001b[0m\u001b[1;33m,\u001b[0m\u001b[0mheaders\u001b[0m\u001b[1;33m,\u001b[0m\u001b[0mtimeout\u001b[0m\u001b[1;33m=\u001b[0m\u001b[1;36m10\u001b[0m\u001b[1;33m)\u001b[0m\u001b[1;33m:\u001b[0m\u001b[1;33m\u001b[0m\u001b[0m\n\u001b[1;32m----> 4\u001b[1;33m     \u001b[0mresp\u001b[0m \u001b[1;33m=\u001b[0m \u001b[0mrequests\u001b[0m\u001b[1;33m.\u001b[0m\u001b[0mget\u001b[0m\u001b[1;33m(\u001b[0m\u001b[0murl\u001b[0m\u001b[1;33m,\u001b[0m\u001b[0mheaders\u001b[0m \u001b[1;33m=\u001b[0m\u001b[0mheaders\u001b[0m\u001b[1;33m,\u001b[0m\u001b[0mtimeout\u001b[0m\u001b[1;33m=\u001b[0m\u001b[0mtimeout\u001b[0m\u001b[1;33m)\u001b[0m\u001b[1;33m\u001b[0m\u001b[0m\n\u001b[0m\u001b[0;32m      5\u001b[0m     \u001b[0mresp\u001b[0m\u001b[1;33m.\u001b[0m\u001b[0mencoding\u001b[0m \u001b[1;33m=\u001b[0m \u001b[1;34m'gbk'\u001b[0m\u001b[1;33m\u001b[0m\u001b[0m\n\u001b[0;32m      6\u001b[0m     \u001b[1;32mreturn\u001b[0m \u001b[0mresp\u001b[0m\u001b[1;33m.\u001b[0m\u001b[0mtext\u001b[0m\u001b[1;33m\u001b[0m\u001b[0m\n",
      "\u001b[1;32m~\\Anaconda3\\lib\\site-packages\\requests\\api.py\u001b[0m in \u001b[0;36mget\u001b[1;34m(url, params, **kwargs)\u001b[0m\n\u001b[0;32m     73\u001b[0m \u001b[1;33m\u001b[0m\u001b[0m\n\u001b[0;32m     74\u001b[0m     \u001b[0mkwargs\u001b[0m\u001b[1;33m.\u001b[0m\u001b[0msetdefault\u001b[0m\u001b[1;33m(\u001b[0m\u001b[1;34m'allow_redirects'\u001b[0m\u001b[1;33m,\u001b[0m \u001b[1;32mTrue\u001b[0m\u001b[1;33m)\u001b[0m\u001b[1;33m\u001b[0m\u001b[0m\n\u001b[1;32m---> 75\u001b[1;33m     \u001b[1;32mreturn\u001b[0m \u001b[0mrequest\u001b[0m\u001b[1;33m(\u001b[0m\u001b[1;34m'get'\u001b[0m\u001b[1;33m,\u001b[0m \u001b[0murl\u001b[0m\u001b[1;33m,\u001b[0m \u001b[0mparams\u001b[0m\u001b[1;33m=\u001b[0m\u001b[0mparams\u001b[0m\u001b[1;33m,\u001b[0m \u001b[1;33m**\u001b[0m\u001b[0mkwargs\u001b[0m\u001b[1;33m)\u001b[0m\u001b[1;33m\u001b[0m\u001b[0m\n\u001b[0m\u001b[0;32m     76\u001b[0m \u001b[1;33m\u001b[0m\u001b[0m\n\u001b[0;32m     77\u001b[0m \u001b[1;33m\u001b[0m\u001b[0m\n",
      "\u001b[1;32m~\\Anaconda3\\lib\\site-packages\\requests\\api.py\u001b[0m in \u001b[0;36mrequest\u001b[1;34m(method, url, **kwargs)\u001b[0m\n\u001b[0;32m     58\u001b[0m     \u001b[1;31m# cases, and look like a memory leak in others.\u001b[0m\u001b[1;33m\u001b[0m\u001b[1;33m\u001b[0m\u001b[0m\n\u001b[0;32m     59\u001b[0m     \u001b[1;32mwith\u001b[0m \u001b[0msessions\u001b[0m\u001b[1;33m.\u001b[0m\u001b[0mSession\u001b[0m\u001b[1;33m(\u001b[0m\u001b[1;33m)\u001b[0m \u001b[1;32mas\u001b[0m \u001b[0msession\u001b[0m\u001b[1;33m:\u001b[0m\u001b[1;33m\u001b[0m\u001b[0m\n\u001b[1;32m---> 60\u001b[1;33m         \u001b[1;32mreturn\u001b[0m \u001b[0msession\u001b[0m\u001b[1;33m.\u001b[0m\u001b[0mrequest\u001b[0m\u001b[1;33m(\u001b[0m\u001b[0mmethod\u001b[0m\u001b[1;33m=\u001b[0m\u001b[0mmethod\u001b[0m\u001b[1;33m,\u001b[0m \u001b[0murl\u001b[0m\u001b[1;33m=\u001b[0m\u001b[0murl\u001b[0m\u001b[1;33m,\u001b[0m \u001b[1;33m**\u001b[0m\u001b[0mkwargs\u001b[0m\u001b[1;33m)\u001b[0m\u001b[1;33m\u001b[0m\u001b[0m\n\u001b[0m\u001b[0;32m     61\u001b[0m \u001b[1;33m\u001b[0m\u001b[0m\n\u001b[0;32m     62\u001b[0m \u001b[1;33m\u001b[0m\u001b[0m\n",
      "\u001b[1;32m~\\Anaconda3\\lib\\site-packages\\requests\\sessions.py\u001b[0m in \u001b[0;36mrequest\u001b[1;34m(self, method, url, params, data, headers, cookies, files, auth, timeout, allow_redirects, proxies, hooks, stream, verify, cert, json)\u001b[0m\n\u001b[0;32m    531\u001b[0m         }\n\u001b[0;32m    532\u001b[0m         \u001b[0msend_kwargs\u001b[0m\u001b[1;33m.\u001b[0m\u001b[0mupdate\u001b[0m\u001b[1;33m(\u001b[0m\u001b[0msettings\u001b[0m\u001b[1;33m)\u001b[0m\u001b[1;33m\u001b[0m\u001b[0m\n\u001b[1;32m--> 533\u001b[1;33m         \u001b[0mresp\u001b[0m \u001b[1;33m=\u001b[0m \u001b[0mself\u001b[0m\u001b[1;33m.\u001b[0m\u001b[0msend\u001b[0m\u001b[1;33m(\u001b[0m\u001b[0mprep\u001b[0m\u001b[1;33m,\u001b[0m \u001b[1;33m**\u001b[0m\u001b[0msend_kwargs\u001b[0m\u001b[1;33m)\u001b[0m\u001b[1;33m\u001b[0m\u001b[0m\n\u001b[0m\u001b[0;32m    534\u001b[0m \u001b[1;33m\u001b[0m\u001b[0m\n\u001b[0;32m    535\u001b[0m         \u001b[1;32mreturn\u001b[0m \u001b[0mresp\u001b[0m\u001b[1;33m\u001b[0m\u001b[0m\n",
      "\u001b[1;32m~\\Anaconda3\\lib\\site-packages\\requests\\sessions.py\u001b[0m in \u001b[0;36msend\u001b[1;34m(self, request, **kwargs)\u001b[0m\n\u001b[0;32m    644\u001b[0m \u001b[1;33m\u001b[0m\u001b[0m\n\u001b[0;32m    645\u001b[0m         \u001b[1;31m# Send the request\u001b[0m\u001b[1;33m\u001b[0m\u001b[1;33m\u001b[0m\u001b[0m\n\u001b[1;32m--> 646\u001b[1;33m         \u001b[0mr\u001b[0m \u001b[1;33m=\u001b[0m \u001b[0madapter\u001b[0m\u001b[1;33m.\u001b[0m\u001b[0msend\u001b[0m\u001b[1;33m(\u001b[0m\u001b[0mrequest\u001b[0m\u001b[1;33m,\u001b[0m \u001b[1;33m**\u001b[0m\u001b[0mkwargs\u001b[0m\u001b[1;33m)\u001b[0m\u001b[1;33m\u001b[0m\u001b[0m\n\u001b[0m\u001b[0;32m    647\u001b[0m \u001b[1;33m\u001b[0m\u001b[0m\n\u001b[0;32m    648\u001b[0m         \u001b[1;31m# Total elapsed time of the request (approximately)\u001b[0m\u001b[1;33m\u001b[0m\u001b[1;33m\u001b[0m\u001b[0m\n",
      "\u001b[1;32m~\\Anaconda3\\lib\\site-packages\\requests\\adapters.py\u001b[0m in \u001b[0;36msend\u001b[1;34m(self, request, stream, timeout, verify, cert, proxies)\u001b[0m\n\u001b[0;32m    502\u001b[0m                 \u001b[1;31m# TODO: Remove this in 3.0.0: see #2811\u001b[0m\u001b[1;33m\u001b[0m\u001b[1;33m\u001b[0m\u001b[0m\n\u001b[0;32m    503\u001b[0m                 \u001b[1;32mif\u001b[0m \u001b[1;32mnot\u001b[0m \u001b[0misinstance\u001b[0m\u001b[1;33m(\u001b[0m\u001b[0me\u001b[0m\u001b[1;33m.\u001b[0m\u001b[0mreason\u001b[0m\u001b[1;33m,\u001b[0m \u001b[0mNewConnectionError\u001b[0m\u001b[1;33m)\u001b[0m\u001b[1;33m:\u001b[0m\u001b[1;33m\u001b[0m\u001b[0m\n\u001b[1;32m--> 504\u001b[1;33m                     \u001b[1;32mraise\u001b[0m \u001b[0mConnectTimeout\u001b[0m\u001b[1;33m(\u001b[0m\u001b[0me\u001b[0m\u001b[1;33m,\u001b[0m \u001b[0mrequest\u001b[0m\u001b[1;33m=\u001b[0m\u001b[0mrequest\u001b[0m\u001b[1;33m)\u001b[0m\u001b[1;33m\u001b[0m\u001b[0m\n\u001b[0m\u001b[0;32m    505\u001b[0m \u001b[1;33m\u001b[0m\u001b[0m\n\u001b[0;32m    506\u001b[0m             \u001b[1;32mif\u001b[0m \u001b[0misinstance\u001b[0m\u001b[1;33m(\u001b[0m\u001b[0me\u001b[0m\u001b[1;33m.\u001b[0m\u001b[0mreason\u001b[0m\u001b[1;33m,\u001b[0m \u001b[0mResponseError\u001b[0m\u001b[1;33m)\u001b[0m\u001b[1;33m:\u001b[0m\u001b[1;33m\u001b[0m\u001b[0m\n",
      "\u001b[1;31mConnectTimeout\u001b[0m: HTTPSConnectionPool(host='www.dytt8.net', port=443): Max retries exceeded with url: /html/gndy/dyzz/20190208/58192.html (Caused by ConnectTimeoutError(<urllib3.connection.VerifiedHTTPSConnection object at 0x00000276B1472F60>, 'Connection to www.dytt8.net timed out. (connect timeout=10)'))"
     ]
    }
   ],
   "source": [
    "import requests\n",
    "from bs4 import BeautifulSoup\n",
    "def get_html_text(url,headers,timeout=10):\n",
    "    resp = requests.get(url,headers =headers,timeout=timeout)\n",
    "    resp.encoding = 'gbk'\n",
    "    return resp.text\n",
    "def parse_detail_url(url,headers):\n",
    "    text = get_html_text(url,headers)\n",
    "    soup = BeautifulSoup(text,'lxml')\n",
    "    movie = {}\n",
    "    zoom = soup.select_one('div#Zoom')   # zoom = soup.find('div',id='Zoom')\n",
    "    imgs = zoom('img',border=\"0\")\n",
    "    movie['poster'] = imgs[0]['src']\n",
    "    movie['stills'] = imgs[1]['src']\n",
    "    movie_string_list= list(zoom.stripped_strings)\n",
    "    #Zoom > span > p:nth-child(1)\n",
    "    lens = len(movie_string_list)\n",
    "    for index,value in enumerate(movie_string_list):\n",
    "        if value.startswith('◎片　　名'):\n",
    "            movie['name'] = value.replace('◎片　　名','').strip()\n",
    "        elif value.startswith('◎译　　名'):\n",
    "            movie['translation_name'] = value.replace('◎译　　名','').strip()\n",
    "        elif value.startswith('◎主　　演'):\n",
    "            actors = []\n",
    "            for i in range(index,lens):\n",
    "                judge_string = movie_string_list[i]\n",
    "                if judge_string.startswith('◎主　　演') or (not(judge_string.startswith('◎'))):\n",
    "                    actor = judge_string.replace('◎主　　演','').strip()\n",
    "                    actors.append(actor)\n",
    "                else:\n",
    "                    break\n",
    "            movie['actors'] = actors\n",
    "        else:\n",
    "            for i in range(index,lens):\n",
    "                judge_string = movie_string_list[i]\n",
    "                if judge_string.startswith('◎简　　介'):\n",
    "                    movie['introduction'] = movie_string_list[i+1].strip()\n",
    "                    break\n",
    "    return movie  \n",
    "html5lib \n",
    "if __name__ == '__main__':\n",
    "    url = 'https://www.dytt8.net/html/gndy/dyzz/20190208/58192.html'\n",
    "    headers = {\n",
    "    'User-Agent':'Mozilla/5.0 (Windows NT 10.0; Win64; x64) AppleWebKit/537.36 (KHTML, like Gecko) Chrome/71.0.3578.98 Safari/537.36'\n",
    "    }\n",
    "    print(parse_detail_url(url,headers))\n"
   ]
  },
  {
   "cell_type": "code",
   "execution_count": 28,
   "metadata": {},
   "outputs": [
    {
     "data": {
      "text/plain": [
       "{'poster': 'https://extraimage.net/images/2019/02/07/4de443c705a19875fd40d6bfb2d60ba8.jpg',\n",
       " 'stills': 'https://lookimg.com/images/2019/02/07/wTQAE.jpg',\n",
       " 'introduction': '作为《叶问》系列影片，电影《叶问外传：张天志》延续了《叶问3》的故事，讲述了同为咏春传人的张天志在比武惜败叶问后，决意放下功夫、远离江湖纷争，但面对接踵而至的连番挑衅，面对家国大义遭受的恶意侵犯，决定重拾咏春惩戒毒贩、“以武之道”捍卫民族道义尊严的故事。',\n",
       " 'translation_name': '叶问外传：张天志/叶问外传/叶问系列之张天志/张天志/张天志传',\n",
       " 'name': 'IP Man Side Story: Cheung Tin Chi/Master Z: Ip Man Legacy',\n",
       " 'actors': ['张晋 Max Zhang',\n",
       "  '戴夫·巴蒂斯塔 Dave Bautista',\n",
       "  '柳岩 Yan Liu',\n",
       "  '杨紫琼 Michelle Yeoh',\n",
       "  '托尼·贾 Tony Jaa',\n",
       "  '郑嘉颖 Kevin Cheng',\n",
       "  '周秀娜 Chrissie Chaw',\n",
       "  '谭耀文 Patrick Tam',\n",
       "  '释彦能 Xingyu Shi',\n",
       "  '姜皓文 Philip Keung Ho-Man',\n",
       "  '栢天男 Adam Pak',\n",
       "  '元华 Wah Yuen']}"
      ]
     },
     "execution_count": 28,
     "metadata": {},
     "output_type": "execute_result"
    }
   ],
   "source": [
    "{'poster': 'https://extraimage.net/images/2019/02/07/4de443c705a19875fd40d6bfb2d60ba8.jpg',\n",
    " 'stills': 'https://lookimg.com/images/2019/02/07/wTQAE.jpg',\n",
    " 'introduction': '作为《叶问》系列影片，电影《叶问外传：张天志》延续了《叶问3》的故事，讲述了同为咏春传人的张天志在比武惜败叶问后，决意放下功夫、远离江湖纷争，但面对接踵而至的连番挑衅，面对家国大义遭受的恶意侵犯，决定重拾咏春惩戒毒贩、“以武之道”捍卫民族道义尊严的故事。',\n",
    " 'translation_name': '叶问外传：张天志/叶问外传/叶问系列之张天志/张天志/张天志传',\n",
    " 'name': 'IP Man Side Story: Cheung Tin Chi/Master Z: Ip Man Legacy',\n",
    " 'actors': ['张晋 Max Zhang',\n",
    "  '戴夫·巴蒂斯塔 Dave Bautista',\n",
    "  '柳岩 Yan Liu',\n",
    "  '杨紫琼 Michelle Yeoh',\n",
    "  '托尼·贾 Tony Jaa',\n",
    "  '郑嘉颖 Kevin Cheng',\n",
    "  '周秀娜 Chrissie Chaw',\n",
    "  '谭耀文 Patrick Tam',\n",
    "  '释彦能 Xingyu Shi',\n",
    "  '姜皓文 Philip Keung Ho-Man',\n",
    "  '栢天男 Adam Pak',\n",
    "  '元华 Wah Yuen']}"
   ]
  },
  {
   "cell_type": "code",
   "execution_count": 3,
   "metadata": {},
   "outputs": [
    {
     "name": "stdout",
     "output_type": "stream",
     "text": [
      "[{'poster': 'https://extraimage.net/images/2019/02/07/979fd5c748637b05cb727cbb5af45928.jpg', 'stills': 'https://lookimg.com/images/2019/02/08/wGIkQ.jpg', 'introduction': '神经学科学家威尔·福斯特（基努·里维斯 饰）在一场车祸中失去了他的妻子（爱丽丝·伊芙 饰）和三个孩子，在好友同时也是科学家埃德·惠特尔（托马斯·米德蒂奇 饰）的帮助下，他通过克隆身体以及传输意识复活了家人。为了达到目的，他不惜与警方为敌，不惜对峙政府控制的实验室，甚至不惜挑战一切科学限制，惹来了始料未及的麻烦……', 'translation_name': '克隆人/复制人/复制品/复生人/捍卫生死线(台)', 'name': 'Replicas', 'actors': ['基努·里维斯 Keanu Reeves', '爱丽丝·伊芙 Alice Eve', '艾米丽·阿琳·林德 Emily Alyn Lind', '托马斯·米德蒂奇 Thomas Middleditch', '恩杰伊·安东尼 Emjay Anthony', '约翰·奥提兹 John Ortiz', '尼亚切·海邓迪 Nyasha Hatendi', 'Aria Lyric Leabu', 'Amber Rivera', 'Amber Townsend', 'Jeffrey Holsman', 'Sunshine Logroño', 'Omar Cruz Soto', 'Iván J. Torres Lasanta', 'Jean Pierre Prats', 'Evelyn Dean-Olmsted']}]\n",
      "1\n"
     ]
    }
   ],
   "source": [
    "print(data)\n",
    "print(len(data))"
   ]
  },
  {
   "cell_type": "code",
   "execution_count": 74,
   "metadata": {},
   "outputs": [
    {
     "name": "stdout",
     "output_type": "stream",
     "text": [
      "\n",
      "The following command must be run outside of the IPython shell:\n",
      "\n",
      "    $ pip install html5lib\n",
      "\n",
      "The Python package manager (pip) can only be used from outside of IPython.\n",
      "Please reissue the `pip` command in a separate terminal or command prompt.\n",
      "\n",
      "See the Python documentation for more information on how to install packages:\n",
      "\n",
      "    https://docs.python.org/3/installing/\n"
     ]
    }
   ],
   "source": [
    "pip install html5lib"
   ]
  },
  {
   "cell_type": "code",
   "execution_count": 134,
   "metadata": {},
   "outputs": [
    {
     "name": "stdout",
     "output_type": "stream",
     "text": [
      "第1次尝试连接失败的url\n",
      "第2次尝试连接失败的url\n",
      "第3次尝试连接失败的url\n"
     ]
    }
   ],
   "source": [
    "maxtry = 3\n",
    "while maxtry:\n",
    "    maxtry -= 1\n",
    "    print('第{}次尝试连接失败的url'.format(3-maxtry))"
   ]
  }
 ],
 "metadata": {
  "kernelspec": {
   "display_name": "Python 3",
   "language": "python",
   "name": "python3"
  },
  "language_info": {
   "codemirror_mode": {
    "name": "ipython",
    "version": 3
   },
   "file_extension": ".py",
   "mimetype": "text/x-python",
   "name": "python",
   "nbconvert_exporter": "python",
   "pygments_lexer": "ipython3",
   "version": "3.7.0"
  }
 },
 "nbformat": 4,
 "nbformat_minor": 2
}
