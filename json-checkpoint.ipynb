{
 "cells": [
  {
   "cell_type": "code",
   "execution_count": 3,
   "metadata": {},
   "outputs": [
    {
     "name": "stdout",
     "output_type": "stream",
     "text": [
      "<class 'list'>\n",
      "<class 'str'>\n",
      "[{\"name\": \"\\u6e05\\u534e\\u5927\\u5b66\", \"type\": \"\\u504f\\u7406\"}, {\"name\": \"\\u5317\\u4eac\\u5927\\u5b66\", \"type\": \"\\u504f\\u6587\"}]\n",
      "[{\"name\": \"清华大学\", \"type\": \"偏理\"}, {\"name\": \"北京大学\", \"type\": \"偏文\"}]\n"
     ]
    }
   ],
   "source": [
    "import json\n",
    "school = [\n",
    "    {\n",
    "        'name':'清华大学',\n",
    "        'type':'偏理'\n",
    "    },\n",
    "    {\n",
    "        'name':'北京大学',\n",
    "        'type':'偏文'\n",
    "    }\n",
    "]\n",
    "print(type(school))  #<class 'list'>\n",
    "json_str = json.dumps(school)  \n",
    "print(type(json_str))  #<class 'str'>\n",
    "print(json_str)  #会发现里面出现了\\u6e05\\u534e\\u5927\\u5b66这样的转义符号\n",
    "json_str = json.dumps(school,ensure_ascii=False)\n",
    "print(json_str) \n"
   ]
  },
  {
   "cell_type": "code",
   "execution_count": 5,
   "metadata": {},
   "outputs": [],
   "source": [
    "with open('school.json','w',encoding='utf-8') as f:\n",
    "    json.dump(school,f,ensure_ascii=False)  #第二个参数就是要写入的文件指针\n"
   ]
  },
  {
   "cell_type": "code",
   "execution_count": 7,
   "metadata": {},
   "outputs": [
    {
     "name": "stdout",
     "output_type": "stream",
     "text": [
      "<class 'list'>\n",
      "[{'title': '钢铁是怎样练成的', 'price': 9.8}, {'title': '红楼梦', 'price': 9.9}]\n"
     ]
    }
   ],
   "source": [
    "json_str = '[{\"title\": \"钢铁是怎样练成的\", \"price\": 9.8}, {\"title\": \"红楼梦\", \"price\": 9.9}]'\n",
    "books = json.loads(json_str)\n",
    "print(type(books))  # <class 'list'>\n",
    "print(books) \n",
    "#[{'title': '钢铁是怎样练成的', 'price': 9.8}, {'title': '红楼梦', 'price': 9.9}]\n"
   ]
  },
  {
   "cell_type": "code",
   "execution_count": 8,
   "metadata": {},
   "outputs": [
    {
     "name": "stdout",
     "output_type": "stream",
     "text": [
      "[{'name': '清华大学', 'type': '偏理'}, {'name': '北京大学', 'type': '偏文'}]\n"
     ]
    }
   ],
   "source": [
    "import json\n",
    "with open('school.json','r',encoding='utf-8') as fp:\n",
    "    json_str = json.load(fp)\n",
    "    print(json_str)\n",
    "#[{'name': '清华大学', 'type': '偏理'}, {'name': '北京大学', 'type': '偏文'}]\n"
   ]
  }
 ],
 "metadata": {
  "kernelspec": {
   "display_name": "Python 3",
   "language": "python",
   "name": "python3"
  },
  "language_info": {
   "codemirror_mode": {
    "name": "ipython",
    "version": 3
   },
   "file_extension": ".py",
   "mimetype": "text/x-python",
   "name": "python",
   "nbconvert_exporter": "python",
   "pygments_lexer": "ipython3",
   "version": "3.7.0"
  }
 },
 "nbformat": 4,
 "nbformat_minor": 2
}
