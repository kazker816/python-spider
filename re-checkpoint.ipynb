{
 "cells": [
  {
   "cell_type": "code",
   "execution_count": 4,
   "metadata": {},
   "outputs": [
    {
     "name": "stdout",
     "output_type": "stream",
     "text": [
      "he\n",
      "a\n"
     ]
    }
   ],
   "source": [
    "import re\n",
    "#1 匹配某个字符串\n",
    "text = 'hello, he is a boy!'\n",
    "ret = re.match('he',text)  #match匹配的要从字符开头寻找\n",
    "print(ret.group())   # he\n",
    "\n",
    "#2 点.可以匹配任意的字符，默认除了换行符\n",
    "text = \"\\nabc\\n\"\n",
    "ret = re.match('.',text) \n",
    "#print(ret.group())   #AttributeError: 'NoneType' object has no attribute 'group'\n",
    "ret = re.search('.',text) # search方法匹配的字符串可以在任何地方\n",
    "print(ret.group())   # a\n",
    "#注意：加上flags = re.DOTALL或者re.S可以使 \".\" 特殊字符完全匹配任何字符，包括换行；没有这个标志， \".\" 匹配除了换行外的任何字符\n",
    "#注意：如果传入的是compile对象，那么在search,match,findall等方法里面不允许有flags这个参数，因为此时正则表达式已经被编译完成了储存在内存中了。\n",
    "\n"
   ]
  },
  {
   "cell_type": "code",
   "execution_count": 6,
   "metadata": {},
   "outputs": [],
   "source": [
    "import re\n",
    "r = re.compile(r'.{10}')\n",
    "text = '123456\\n789abc'\n",
    "#ret = re.search(r,text,flags = re.S)\n",
    "#print(ret.group())\n",
    "#ValueError: cannot process flags argument with a compiled pattern"
   ]
  },
  {
   "cell_type": "code",
   "execution_count": 8,
   "metadata": {},
   "outputs": [
    {
     "name": "stdout",
     "output_type": "stream",
     "text": [
      "110\n",
      "喂\n",
      "\t\n",
      "喂\n",
      "['1', '2']\n",
      "['一', '1', '二', '2']\n"
     ]
    }
   ],
   "source": [
    "import re\n",
    "#3  \\d匹配任意的数字\n",
    "text = '喂，110, he is a boy!'\n",
    "ret = re.search('\\d\\d\\d',text) \n",
    "print(ret.group())   # 110\n",
    "\n",
    "#4  \\D匹配任意的非数字\n",
    "text = '喂，110, he is a boy!'\n",
    "ret = re.search('\\D',text) \n",
    "print(ret.group())   # 喂\n",
    "\n",
    "#5  \\s匹配任意的空白字符（\\n \\r \\t 空格）\n",
    "text = '喂\\t110, he is a boy!'\n",
    "ret = re.search('\\s',text) \n",
    "print(ret.group())   #\t\n",
    "\n",
    "#6  \\S匹配任意的非空白字符\n",
    "text = '喂\\t110, he is a boy!'\n",
    "ret = re.search('\\S',text) \n",
    "print(ret.group())  #喂\n",
    "\n",
    "#7 \\w匹配的是a-z A-Z以及数字和下划线_\n",
    "text = '一1二2'\n",
    "print(re.findall(r'\\w',text,re.A))  # ['1', '2']\n",
    "print(re.findall(r'\\w',text))  # ['一', '1', '二', '2']\n",
    "\n"
   ]
  },
  {
   "cell_type": "code",
   "execution_count": 9,
   "metadata": {},
   "outputs": [
    {
     "name": "stdout",
     "output_type": "stream",
     "text": [
      "0731\n"
     ]
    }
   ],
   "source": [
    " text = \"0731\"\n",
    " ret = re.match('\\d*',text)\n",
    " print(ret.group())    #0731\n"
   ]
  },
  {
   "cell_type": "code",
   "execution_count": null,
   "metadata": {},
   "outputs": [],
   "source": [
    "text = \"abc\"  \n",
    "ret = re.match('\\w+',text)  \n",
    "print(ret.group())  #abc  "
   ]
  },
  {
   "cell_type": "code",
   "execution_count": null,
   "metadata": {},
   "outputs": [],
   "source": [
    "text = \"\"  \n",
    "ret = re.match('\\w+',text)  \n",
    "print(ret.group())  \n",
    "# AttributeError: 'NoneType' object has no attribute  "
   ]
  },
  {
   "cell_type": "code",
   "execution_count": null,
   "metadata": {},
   "outputs": [],
   "source": []
  },
  {
   "cell_type": "code",
   "execution_count": null,
   "metadata": {},
   "outputs": [],
   "source": []
  },
  {
   "cell_type": "code",
   "execution_count": null,
   "metadata": {},
   "outputs": [],
   "source": []
  },
  {
   "cell_type": "code",
   "execution_count": null,
   "metadata": {},
   "outputs": [],
   "source": []
  }
 ],
 "metadata": {
  "kernelspec": {
   "display_name": "Python 3",
   "language": "python",
   "name": "python3"
  },
  "language_info": {
   "codemirror_mode": {
    "name": "ipython",
    "version": 3
   },
   "file_extension": ".py",
   "mimetype": "text/x-python",
   "name": "python",
   "nbconvert_exporter": "python",
   "pygments_lexer": "ipython3",
   "version": "3.7.0"
  }
 },
 "nbformat": 4,
 "nbformat_minor": 2
}
