{
 "cells": [
  {
   "cell_type": "code",
   "execution_count": 3,
   "metadata": {},
   "outputs": [
    {
     "name": "stdout",
     "output_type": "stream",
     "text": [
      "header: ['时间', '收盘价', '涨跌']\n",
      "['2017/2/20', '70.05', '涨']\n",
      "['2017/2/21', '71.58', '涨']\n",
      "['2017/2/22', '70.56', '跌']\n",
      "['2017/2/24', '73.65', '涨']\n",
      "['2017/2/25', '77.85', '涨']\n"
     ]
    }
   ],
   "source": [
    "import csv\n",
    "with open('股票数据.csv' ,'r') as f:\n",
    "    reader = csv.reader(f)  #reader是一个迭代器哦\n",
    "    header = next(reader)\n",
    "    print('header:',header)\n",
    "    for x in reader:\n",
    "        print(x)\n"
   ]
  },
  {
   "cell_type": "code",
   "execution_count": 4,
   "metadata": {
    "ExecuteTime": {
     "end_time": "2019-02-22T04:47:45.202776Z",
     "start_time": "2019-02-22T04:47:45.198785Z"
    }
   },
   "outputs": [
    {
     "name": "stdout",
     "output_type": "stream",
     "text": [
      "<class 'csv.DictReader'>\n",
      "OrderedDict([('时间', '2017/2/20'), ('收盘价', '70.05'), ('涨跌', '涨')])\n",
      "OrderedDict([('时间', '2017/2/21'), ('收盘价', '71.58'), ('涨跌', '涨')])\n",
      "OrderedDict([('时间', '2017/2/22'), ('收盘价', '70.56'), ('涨跌', '跌')])\n",
      "OrderedDict([('时间', '2017/2/24'), ('收盘价', '73.65'), ('涨跌', '涨')])\n",
      "OrderedDict([('时间', '2017/2/25'), ('收盘价', '77.85'), ('涨跌', '涨')])\n"
     ]
    }
   ],
   "source": [
    "import csv\n",
    "with open('股票数据.csv' ,'r',errors='ignore') as f:\n",
    "    reader = csv.DictReader(f)  #reader是一个迭代器哦\n",
    "    print(type(reader))  #<class 'csv.DictReader'>\n",
    "    for x in reader:\n",
    "        print(x)\n",
    "# 编码默认 encoding = 'gbk'\n",
    "# errors='ignore'可以忽略编码错误哦"
   ]
  },
  {
   "cell_type": "code",
   "execution_count": 5,
   "metadata": {},
   "outputs": [],
   "source": [
    "import csv\n",
    "header = ['时间', '收盘价', '涨跌']\n",
    "data  = [['2017/2/20', '70.05', '涨'],\n",
    "        ['2017/2/21', '71.58', '涨'],\n",
    "        ['2017/2/22', '70.56', '跌'],\n",
    "        ['2017/2/24', '73.65', '涨'],\n",
    "        ['2017/2/25', '77.85', '涨']]\n",
    "with open('stock.csv','w',encoding = 'utf-8',newline='') as f: \n",
    "#这里写入文件时要以空格结尾，默认是换行\n",
    "    writer = csv.writer(f)\n",
    "    writer.writerow(header) #先写入一行，即标题行\n",
    "    writer.writerows(data)  #再写入多行，即数据行\n"
   ]
  },
  {
   "cell_type": "code",
   "execution_count": 6,
   "metadata": {},
   "outputs": [],
   "source": [
    "import csv\n",
    "header = ['时间', '收盘价', '涨跌']\n",
    "data  = [{'时间':'2017/2/20','收盘价': '70.05','涨跌': '涨'},\n",
    "         {'时间':'2017/2/21','收盘价': '71.58', '涨跌':'涨'},\n",
    "         {'时间':'2017/2/22','收盘价': '70.56', '涨跌':'跌'}]\n",
    "with open('stock.csv','w',encoding = 'utf-8',newline='') as f:\n",
    "    writer = csv.DictWriter(f,header) #这里要指定我们的字典key\n",
    "    writer.writeheader()  #使用这个方法保存我们的标题到文件中  \n",
    "    writer.writerows(data)  \n"
   ]
  }
 ],
 "metadata": {
  "kernelspec": {
   "display_name": "Python 3",
   "language": "python",
   "name": "python3"
  },
  "language_info": {
   "codemirror_mode": {
    "name": "ipython",
    "version": 3
   },
   "file_extension": ".py",
   "mimetype": "text/x-python",
   "name": "python",
   "nbconvert_exporter": "python",
   "pygments_lexer": "ipython3",
   "version": "3.7.0"
  }
 },
 "nbformat": 4,
 "nbformat_minor": 2
}
