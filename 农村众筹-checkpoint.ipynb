{
 "cells": [
  {
   "cell_type": "code",
   "execution_count": 63,
   "metadata": {},
   "outputs": [
    {
     "name": "stdout",
     "output_type": "stream",
     "text": [
      "[{'name': '订制眉县猕猴桃，每年新鲜奇异果送到家', 'href': 'http://www.zhongchou.cn/deal-show/id-402334', 'brief_introduction': '我是一名返乡大学生农二代，在猕猴桃果园旁边长大，通过众筹的方式耕种更好的眉县猕猴桃。', 'province': '陕西', 'goodtype': '果蔬种植', 'total_money': '￥6814', 'support_num': '93', 'finish_rate': '682%'}, {'name': '我们是90后，我们种植自己的梦想', 'href': 'http://www.zhongchou.cn/deal-show/id-409315', 'brief_introduction': '我们计划在丑柑最佳产地之一的成都市蒲江县承包丑柑果园，聘请具有5年丑柑种植经验的技术人员进行协助管理，全程自主监管，让您吃出品质，吃出健康！', 'province': '四川', 'goodtype': '果蔬种植', 'total_money': '￥18001', 'support_num': '238', 'finish_rate': '101%'}, {'name': '【益茶众筹】包茶山！猴年要喝头采太平猴魁 全程监制手工制茶', 'href': 'http://www.zhongchou.cn/deal-show/id-391753', 'brief_introduction': '此次我们众筹是直接对接茶农，包下太平猴魁种植面积5亩的头采茶，全程监制要求手工采摘和制茶，将纯正的太平猴魁分享给每一位爱茶人。', 'province': '安徽', 'goodtype': '茶酒饮品', 'total_money': '￥30700', 'support_num': '74', 'finish_rate': '103%'}, {'name': '珍藏老白茶套装', 'href': 'http://www.zhongchou.cn/deal-show/id-407650', 'brief_introduction': '“茶与中原”2013年精制的三款有机白茶，在福鼎原产地存储三年，组合成【茶与中原 · 藏茶 | 癸巳年-福鼎老白茶】套装。', 'province': '河南', 'goodtype': '茶酒饮品', 'total_money': '￥13921', 'support_num': '26', 'finish_rate': '140%'}, {'name': '一起培育百香果新品种', 'href': 'http://www.zhongchou.cn/deal-show/id-410455', 'brief_introduction': '回家种植2年百香果，被百香果的味道所吸引。通过所学知识，搭建一块百香果实验田，用于培育新品种，让爱心果得到更完美的味道！！', 'province': '福建', 'goodtype': '果蔬种植', 'total_money': '￥10188', 'support_num': '177', 'finish_rate': '102%'}, {'name': '用一杯见底好茶焐热茶人心——为了北回归线遗存的8000株古树红茶', 'href': 'http://www.zhongchou.cn/deal-show/id-393877', 'brief_introduction': '有一种消费，叫耕者有利，食者有福——喝一杯见底好茶，用消费焐热茶人心。让无名真品走出大山，换守茶人一份应得的体面。', 'province': '广西', 'goodtype': '茶酒饮品', 'total_money': '￥12246', 'support_num': '51', 'finish_rate': '123%'}, {'name': '烟台正宗大樱桃——为惊艳味蕾而来', 'href': 'http://www.zhongchou.cn/deal-show/id-399475', 'brief_introduction': '为了能让更多的人品尝到这种“人间鲜果”，于是自己包下了樱桃园，自己种，自己摘，自己剪枝，自己发货，只为让外地的朋友也能吃到最正宗的烟台大樱桃。', 'province': '山东', 'goodtype': '果蔬种植', 'total_money': '￥7668', 'support_num': '51', 'finish_rate': '256%'}, {'name': '2016新出无硫黄花菜—农家自种铁锅烘干自然晾晒的绿色食品', 'href': 'http://www.zhongchou.cn/deal-show/id-340903', 'brief_introduction': '在全国品质鉴定会上同州金菜（黄花菜）名列同类产品之首，被国家质检总局授予地理标志产品保护。此次众筹产品为2016年农家新出铁锅烘干自然晾晒的无硫黄花菜', 'province': '陕西', 'goodtype': '果蔬种植', 'total_money': '￥3092', 'support_num': '47', 'finish_rate': '104%'}, {'name': '7棵樱桃树，让孩子吃上自己种的放心樱桃', 'href': 'http://www.zhongchou.cn/deal-show/id-361147', 'brief_introduction': '大连的7个家庭，联合专业的儿童教育机构，希望能带着孩子走进樱桃园，亲身体验种植，和樱桃树一起成长，和果实一同成熟。让孩子吃上自己种的放心樱桃。', 'province': '辽宁', 'goodtype': '生态养殖', 'total_money': '￥20894', 'support_num': '143', 'finish_rate': '105%'}, {'name': '午子仙毫---2016年头采独芽明前精品茶叶限量众筹', 'href': 'http://www.zhongchou.cn/deal-show/id-346354', 'brief_introduction': '午子仙毫：茶中皇后、国家级名优绿茶、陕西省政府外事礼品专用茶、97年获国际茶类展销会金奖、2013年获第31届巴拿马国际博览会茶类唯一金奖。', 'province': '陕西', 'goodtype': '茶酒饮品', 'total_money': '￥10117', 'support_num': '60', 'finish_rate': '102%'}, {'name': '不是每一滴蜂蜜都能走过成熟酿造期', 'href': 'http://www.zhongchou.cn/deal-show/id-356428', 'brief_introduction': '市场真蜂蜜中绝大部分是非成熟蜜。低价低成本的非成熟蜜使得老百姓根本无法享受到大自然赋予人们的这种滋补与健康的食品。', 'province': '山东', 'goodtype': '生态养殖', 'total_money': '￥4869', 'support_num': '88', 'finish_rate': '163%'}, {'name': '留坝半野生特级香菇第四期', 'href': 'http://www.zhongchou.cn/deal-show/id-385240', 'brief_introduction': '留坝香菇产自秦巴山区留坝县，是秦岭重要的森林副产品，为我国三大香菇分布地之一，也是我国两大香菇生产基地之一，以质量最优品质最佳著称，属国家星火开发项目', 'province': '陕西', 'goodtype': '果蔬种植', 'total_money': '￥2008', 'support_num': '34', 'finish_rate': '101%'}, {'name': '【好茶不私享】春季头采日照绿茶，来自大山里的茶香氤氲，带您品味真正日照绿。', 'href': 'http://www.zhongchou.cn/deal-show/id-392464', 'brief_introduction': '脚步离科技远一些，与自然便更亲近。我们是深山种茶人，这是我们的日照绿！陋室茗茶茶香里，推盏话人生，等您来。', 'province': '山东', 'goodtype': '茶酒饮品', 'total_money': '￥1009', 'support_num': '27', 'finish_rate': '101%'}, {'name': '50%的铁观音不是安溪铁观音！那就来一杯叫“春”的茶！', 'href': 'http://www.zhongchou.cn/deal-show/id-406255', 'brief_introduction': '分享一杯地道、正宗、最高性价比的安溪感德正味铁观音。', 'province': '福建', 'goodtype': '茶酒饮品', 'total_money': '￥38258', 'support_num': '175', 'finish_rate': '101%'}, {'name': '四星级无公害原生态和田大红枣第二季', 'href': 'http://www.zhongchou.cn/deal-show/id-398365', 'brief_introduction': '洗衣粉洗过的枣子防虫耐放，但洗衣粉含有的化学成分容易残留在红枣上，吃了对人体健康十分有害，所以我们大枣没有经过任何形式的洗涤，更洗不出来任何白色泡沫。', 'province': '新疆', 'goodtype': '休闲零食', 'total_money': '￥2365', 'support_num': '63', 'finish_rate': '119%'}, {'name': '新疆阿克苏温宿县合作社自筹原味纸皮核桃---假一赔十', 'href': 'http://www.zhongchou.cn/deal-show/id-345538', 'brief_introduction': '我们的核桃不但内销，而且大量出口德英加澳等国。我们的核桃外形美观、果仁澄黄饱满醇香，营养价值极高，有补气益血，温补肾肺，定喘化痰，生发益脑等功效。', 'province': '新疆', 'goodtype': '休闲零食', 'total_money': '￥3139', 'support_num': '25', 'finish_rate': '105%'}, {'name': '农家自产原生态非漂白大核桃二期', 'href': 'http://www.zhongchou.cn/deal-show/id-396187', 'brief_introduction': '商洛原生态非漂白核桃，保证2015年秋冬新出，保证手工剥皮，保证没有使用硫磺、木炭或其他任何化学药品熏蒸让核桃去皮，保证没有使用漂白剂给核桃美容。', 'province': '陕西', 'goodtype': '休闲零食', 'total_money': '￥3084', 'support_num': '30', 'finish_rate': '103%'}, {'name': '赔钱也要让您知道的好米--五常稻花香大米65元10斤', 'href': 'http://www.zhongchou.cn/deal-show/id-407455', 'brief_introduction': '1、资金用于品牌网络推广，打造自己的互联网品牌，让更多的人快速知晓。2、继续坚持做五常产区最好的大米，让更多的人品尝到真的、上好的五常大米！', 'province': '黑龙江', 'goodtype': '生物科技', 'total_money': '￥1020', 'support_num': '12', 'finish_rate': '102%'}, {'name': '三哥为之倾注一生的甜“蜜”--三哥原蜜', 'href': 'http://www.zhongchou.cn/deal-show/id-396409', 'brief_introduction': '春食一口蜜，健康一整年，健康甜蜜的生活，怎能少了真正的好蜂蜜的陪伴！良心蜂农-三哥，一辈子只愿把这一件事做好……把自家蜜蜂酿的每一滴真蜜分享给您！', 'province': '湖北', 'goodtype': '生态养殖', 'total_money': '￥20187', 'support_num': '359', 'finish_rate': '101%'}, {'name': '《不知名茶3》长白山脉已被我们承包，只差你这个森林之王', 'href': 'http://www.zhongchou.cn/deal-show/id-157543', 'brief_introduction': '从1000座山到整片森林，包山（林）种茶这件事我们从未止步。', 'province': '北京', 'goodtype': '茶酒饮品', 'total_money': '￥3209912', 'support_num': '3249', 'finish_rate': '642%'}, {'name': '【黑鸡枞教父众筹】聆听吃出的健康传奇', 'href': 'http://www.zhongchou.cn/deal-show/id-140815', 'brief_introduction': '金泓言用他30年的心血，投入到昔日的皇家贡品黑鸡枞的研发和种植中，将“旧时王榭堂前宴飞入寻常百姓家”变成了现实。', 'province': '北京', 'goodtype': '果蔬食品', 'total_money': '￥2052718', 'support_num': '2665', 'finish_rate': '2053%'}, {'name': '舌尖上的五常稻花香米，“三株稻”品质良心米', 'href': 'http://www.zhongchou.cn/deal-show/id-251368', 'brief_introduction': '带动乡里乡亲致富的同时，把这正宗的五常米，直接送到千家万户。让大家都吃上真正的“五常米、帝王米！”', 'province': '黑龙江', 'goodtype': '生态养殖', 'total_money': '￥566326', 'support_num': '1940', 'finish_rate': '567%'}, {'name': '自产中宁枸杞众筹---无硫磺、最大个', 'href': 'http://www.zhongchou.cn/deal-show/id-345964', 'brief_introduction': '宁夏自治区中宁县宁安镇，世界枸杞的发源地、中国最具影响力的地理标志、宁夏五宝之首、千百年来世代期许和平安宁的地方，孕育出了世界上品质最好的枸杞。', 'province': '宁夏', 'goodtype': '休闲零食', 'total_money': '￥3329', 'support_num': '19', 'finish_rate': '111%'}, {'name': '“和平众宣”第二季：传承中国传统手工宣纸', 'href': 'http://www.zhongchou.cn/deal-show/id-322180', 'brief_introduction': '应广大师友需求，和平众宣发起人-黄和平先生新年推出传统手工宣纸“和平众宣”第二期，自留赠友皆佳；让更多的朋友感受手工宣纸之美。', 'province': '北京', 'goodtype': '手艺', 'total_money': '￥672214', 'support_num': '562', 'finish_rate': '1685%'}]\n"
     ]
    }
   ],
   "source": [
    "import requests\n",
    "import re\n",
    "import random\n",
    "DATA = []\n",
    "def getHTMLtext(url,headers,timeout=5):\n",
    "    try :\n",
    "        resp = requests.get(url,headers=headers,timeout = timeout)\n",
    "        resp.raise_for_status\n",
    "        resp.encoding = 'utf-8'\n",
    "        return resp.text\n",
    "    except:\n",
    "        return ''\n",
    "\n",
    "def reParser(text):\n",
    "    r_name = re.compile(r'class=\"siteCardICH3\" title=\"(.*?)\" target=\"_blank\"')\n",
    "    name_list = re.findall(r_name,text)\n",
    "\n",
    "    r_href = re.compile(r'href=\"(.*?)\" class=\"siteCardICH3\" ')\n",
    "    href_list = re.findall(r_href,text)\n",
    "    \n",
    "    r_introduction = re.compile(r'<p class=\"siteCardIC_p souSuo\">(.*?)</p>')\n",
    "    introduction_list = re.findall(r_introduction,text)\n",
    "    \n",
    "    r_goods = re.compile(r'<div class=\"siteCardFBox cgjs\">(.*?)</div>',re.DOTALL)\n",
    "    goods_list = re.findall(r_goods,text)\n",
    "    r_good = re.compile(r'target=\"_blank\">(.*?)</a>')\n",
    "    province_list = []\n",
    "    goodtype_list = []\n",
    "    for every_good in goods_list:\n",
    "        good_string_list = re.findall(r_good,every_good)\n",
    "        province_list.append(good_string_list[0])\n",
    "        if len(good_string_list) == 2:\n",
    "            goodtype_list.append(good_string_list[1])\n",
    "        else:\n",
    "            goodtype_list.append(good_string_list[2])\n",
    "\n",
    "    r_total_money = re.compile(r'class=\"ftP\">(￥\\d+)</p>')\n",
    "    total_money_list = re.findall(r_total_money,text)\n",
    "    \n",
    "    r_support_num = re.compile(r'class=\"ftP\">(\\d+)</p>')\n",
    "    support_num_list = re.findall(r_support_num,text)\n",
    "    \n",
    "    r_finish_rate = re.compile(r'class=\"ftP\">(\\d+%)</p>')\n",
    "    finish_rate_list = re.findall(r_finish_rate,text)\n",
    "    for name,href,brief_introduction,province,goodtype,total_money,support_num,finish_rate in \\\n",
    "            zip(name_list,href_list,introduction_list,province_list,goodtype_list,total_money_list,support_num_list,finish_rate_list):\n",
    "        temp_dict =              {\n",
    "                'name':name,\n",
    "                'href':href,\n",
    "                'brief_introduction':brief_introduction,\n",
    "                'province':province,\n",
    "                'goodtype':goodtype,\n",
    "                'total_money':total_money,\n",
    "                'support_num':support_num,\n",
    "                'finish_rate':finish_rate\n",
    "            } \n",
    "        DATA.append(temp_dict)\n",
    "\n",
    "    \n",
    "if __name__ == '__main__':\n",
    "    url = 'http://www.zhongchou.cn/browse/id-28-re'\n",
    "    header_list = [{ 'User-Agent':'Mozilla/5.0 (Windows NT 10.0; Win64; x64) AppleWebKit/537.36 (KHTML, like Gecko) Chrome/71.0.3578.98 Safari/537.36'},\n",
    "                   { 'User-Agent':\"Mozilla/5.0 (Macintosh; U; Mac OS X Mach-O; en-US; rv:2.0a) Gecko/20040614 Firefox/3.0.0 \"},\n",
    "                   { 'User-Agent':\"Mozilla/5.0 (Macintosh; U; PPC Mac OS X 10.5; en-US; rv:1.9.0.3) Gecko/2008092414 Firefox/3.0.3\"},\n",
    "                   { 'User-Agent':\"Mozilla/5.0 (Windows NT 6.1; WOW64) AppleWebKit/537.1 (KHTML, like Gecko) Chrome/22.0.1207.1 Safari/537.1\"},\n",
    "                   { 'User-Agent':\"Mozilla/5.0 (X11; CrOS i686 2268.111.0) AppleWebKit/536.11 (KHTML, like Gecko) Chrome/20.0.1132.57 Safari/536.11\"},\n",
    "                   { 'User-Agent':\"Opera/9.80 (Windows NT 6.1; U; en) Presto/2.8.131 Version/11.11\"},\n",
    "                   { 'User-Agent':\"Opera/9.80 (Android 2.3.4; Linux; Opera mobi/adr-1107051709; U; zh-cn) Presto/2.8.149 Version/11.10\"}]\n",
    "    headers = random.choice(header_list)\n",
    "    text = getHTMLtext(url,headers,timeout = 5)\n",
    "    if text != '':\n",
    "       # print(text)\n",
    "        reParser(text)\n",
    "        print(DATA)\n",
    "    else:\n",
    "        print('访问该页面 {} 出错.format(url)')\n",
    "    \n",
    "    \n"
   ]
  },
  {
   "cell_type": "code",
   "execution_count": 1,
   "metadata": {},
   "outputs": [
    {
     "name": "stdout",
     "output_type": "stream",
     "text": [
      "[{'name': '订制眉县猕猴桃，每年新鲜奇异果送到家', 'href': 'http://www.zhongchou.cn/deal-show/id-402334', 'brief_introduction': '我是一名返乡大学生农二代，在猕猴桃果园旁边长大，通过众筹的方式耕种更好的眉县猕猴桃。', 'province': '陕西', 'goodtype': '果蔬种植', 'total_money': '￥6814', 'support_num': '93', 'finish_rate': '682%'}, {'name': '我们是90后，我们种植自己的梦想', 'href': 'http://www.zhongchou.cn/deal-show/id-409315', 'brief_introduction': '我们计划在丑柑最佳产地之一的成都市蒲江县承包丑柑果园，聘请具有5年丑柑种植经验的技术人员进行协助管理，全程自主监管，让您吃出品质，吃出健康！', 'province': '四川', 'goodtype': '果蔬种植', 'total_money': '￥18001', 'support_num': '238', 'finish_rate': '101%'}, {'name': '【益茶众筹】包茶山！猴年要喝头采太平猴魁 全程监制手工制茶', 'href': 'http://www.zhongchou.cn/deal-show/id-391753', 'brief_introduction': '此次我们众筹是直接对接茶农，包下太平猴魁种植面积5亩的头采茶，全程监制要求手工采摘和制茶，将纯正的太平猴魁分享给每一位爱茶人。', 'province': '安徽', 'goodtype': '茶酒饮品', 'total_money': '￥30700', 'support_num': '74', 'finish_rate': '103%'}, {'name': '珍藏老白茶套装', 'href': 'http://www.zhongchou.cn/deal-show/id-407650', 'brief_introduction': '“茶与中原”2013年精制的三款有机白茶，在福鼎原产地存储三年，组合成【茶与中原 · 藏茶 | 癸巳年-福鼎老白茶】套装。', 'province': '河南', 'goodtype': '茶酒饮品', 'total_money': '￥13921', 'support_num': '26', 'finish_rate': '140%'}, {'name': '一起培育百香果新品种', 'href': 'http://www.zhongchou.cn/deal-show/id-410455', 'brief_introduction': '回家种植2年百香果，被百香果的味道所吸引。通过所学知识，搭建一块百香果实验田，用于培育新品种，让爱心果得到更完美的味道！！', 'province': '福建', 'goodtype': '果蔬种植', 'total_money': '￥10188', 'support_num': '177', 'finish_rate': '102%'}, {'name': '用一杯见底好茶焐热茶人心——为了北回归线遗存的8000株古树红茶', 'href': 'http://www.zhongchou.cn/deal-show/id-393877', 'brief_introduction': '有一种消费，叫耕者有利，食者有福——喝一杯见底好茶，用消费焐热茶人心。让无名真品走出大山，换守茶人一份应得的体面。', 'province': '广西', 'goodtype': '茶酒饮品', 'total_money': '￥12246', 'support_num': '51', 'finish_rate': '123%'}, {'name': '烟台正宗大樱桃——为惊艳味蕾而来', 'href': 'http://www.zhongchou.cn/deal-show/id-399475', 'brief_introduction': '为了能让更多的人品尝到这种“人间鲜果”，于是自己包下了樱桃园，自己种，自己摘，自己剪枝，自己发货，只为让外地的朋友也能吃到最正宗的烟台大樱桃。', 'province': '山东', 'goodtype': '果蔬种植', 'total_money': '￥7668', 'support_num': '51', 'finish_rate': '256%'}, {'name': '2016新出无硫黄花菜—农家自种铁锅烘干自然晾晒的绿色食品', 'href': 'http://www.zhongchou.cn/deal-show/id-340903', 'brief_introduction': '在全国品质鉴定会上同州金菜（黄花菜）名列同类产品之首，被国家质检总局授予地理标志产品保护。此次众筹产品为2016年农家新出铁锅烘干自然晾晒的无硫黄花菜', 'province': '陕西', 'goodtype': '果蔬种植', 'total_money': '￥3092', 'support_num': '47', 'finish_rate': '104%'}, {'name': '7棵樱桃树，让孩子吃上自己种的放心樱桃', 'href': 'http://www.zhongchou.cn/deal-show/id-361147', 'brief_introduction': '大连的7个家庭，联合专业的儿童教育机构，希望能带着孩子走进樱桃园，亲身体验种植，和樱桃树一起成长，和果实一同成熟。让孩子吃上自己种的放心樱桃。', 'province': '辽宁', 'goodtype': '生态养殖', 'total_money': '￥20894', 'support_num': '143', 'finish_rate': '105%'}, {'name': '午子仙毫---2016年头采独芽明前精品茶叶限量众筹', 'href': 'http://www.zhongchou.cn/deal-show/id-346354', 'brief_introduction': '午子仙毫：茶中皇后、国家级名优绿茶、陕西省政府外事礼品专用茶、97年获国际茶类展销会金奖、2013年获第31届巴拿马国际博览会茶类唯一金奖。', 'province': '陕西', 'goodtype': '茶酒饮品', 'total_money': '￥10117', 'support_num': '60', 'finish_rate': '102%'}, {'name': '不是每一滴蜂蜜都能走过成熟酿造期', 'href': 'http://www.zhongchou.cn/deal-show/id-356428', 'brief_introduction': '市场真蜂蜜中绝大部分是非成熟蜜。低价低成本的非成熟蜜使得老百姓根本无法享受到大自然赋予人们的这种滋补与健康的食品。', 'province': '山东', 'goodtype': '生态养殖', 'total_money': '￥4869', 'support_num': '88', 'finish_rate': '163%'}, {'name': '留坝半野生特级香菇第四期', 'href': 'http://www.zhongchou.cn/deal-show/id-385240', 'brief_introduction': '留坝香菇产自秦巴山区留坝县，是秦岭重要的森林副产品，为我国三大香菇分布地之一，也是我国两大香菇生产基地之一，以质量最优品质最佳著称，属国家星火开发项目', 'province': '陕西', 'goodtype': '果蔬种植', 'total_money': '￥2008', 'support_num': '34', 'finish_rate': '101%'}, {'name': '【好茶不私享】春季头采日照绿茶，来自大山里的茶香氤氲，带您品味真正日照绿。', 'href': 'http://www.zhongchou.cn/deal-show/id-392464', 'brief_introduction': '脚步离科技远一些，与自然便更亲近。我们是深山种茶人，这是我们的日照绿！陋室茗茶茶香里，推盏话人生，等您来。', 'province': '山东', 'goodtype': '茶酒饮品', 'total_money': '￥1009', 'support_num': '27', 'finish_rate': '101%'}, {'name': '50%的铁观音不是安溪铁观音！那就来一杯叫“春”的茶！', 'href': 'http://www.zhongchou.cn/deal-show/id-406255', 'brief_introduction': '分享一杯地道、正宗、最高性价比的安溪感德正味铁观音。', 'province': '福建', 'goodtype': '茶酒饮品', 'total_money': '￥38258', 'support_num': '175', 'finish_rate': '101%'}, {'name': '四星级无公害原生态和田大红枣第二季', 'href': 'http://www.zhongchou.cn/deal-show/id-398365', 'brief_introduction': '洗衣粉洗过的枣子防虫耐放，但洗衣粉含有的化学成分容易残留在红枣上，吃了对人体健康十分有害，所以我们大枣没有经过任何形式的洗涤，更洗不出来任何白色泡沫。', 'province': '新疆', 'goodtype': '休闲零食', 'total_money': '￥2365', 'support_num': '63', 'finish_rate': '119%'}, {'name': '新疆阿克苏温宿县合作社自筹原味纸皮核桃---假一赔十', 'href': 'http://www.zhongchou.cn/deal-show/id-345538', 'brief_introduction': '我们的核桃不但内销，而且大量出口德英加澳等国。我们的核桃外形美观、果仁澄黄饱满醇香，营养价值极高，有补气益血，温补肾肺，定喘化痰，生发益脑等功效。', 'province': '新疆', 'goodtype': '休闲零食', 'total_money': '￥3139', 'support_num': '25', 'finish_rate': '105%'}, {'name': '农家自产原生态非漂白大核桃二期', 'href': 'http://www.zhongchou.cn/deal-show/id-396187', 'brief_introduction': '商洛原生态非漂白核桃，保证2015年秋冬新出，保证手工剥皮，保证没有使用硫磺、木炭或其他任何化学药品熏蒸让核桃去皮，保证没有使用漂白剂给核桃美容。', 'province': '陕西', 'goodtype': '休闲零食', 'total_money': '￥3084', 'support_num': '30', 'finish_rate': '103%'}, {'name': '赔钱也要让您知道的好米--五常稻花香大米65元10斤', 'href': 'http://www.zhongchou.cn/deal-show/id-407455', 'brief_introduction': '1、资金用于品牌网络推广，打造自己的互联网品牌，让更多的人快速知晓。2、继续坚持做五常产区最好的大米，让更多的人品尝到真的、上好的五常大米！', 'province': '黑龙江', 'goodtype': '生物科技', 'total_money': '￥1020', 'support_num': '12', 'finish_rate': '102%'}, {'name': '三哥为之倾注一生的甜“蜜”--三哥原蜜', 'href': 'http://www.zhongchou.cn/deal-show/id-396409', 'brief_introduction': '春食一口蜜，健康一整年，健康甜蜜的生活，怎能少了真正的好蜂蜜的陪伴！良心蜂农-三哥，一辈子只愿把这一件事做好……把自家蜜蜂酿的每一滴真蜜分享给您！', 'province': '湖北', 'goodtype': '生态养殖', 'total_money': '￥20187', 'support_num': '359', 'finish_rate': '101%'}, {'name': '《不知名茶3》长白山脉已被我们承包，只差你这个森林之王', 'href': 'http://www.zhongchou.cn/deal-show/id-157543', 'brief_introduction': '从1000座山到整片森林，包山（林）种茶这件事我们从未止步。', 'province': '北京', 'goodtype': '茶酒饮品', 'total_money': '￥3209912', 'support_num': '3249', 'finish_rate': '642%'}, {'name': '【黑鸡枞教父众筹】聆听吃出的健康传奇', 'href': 'http://www.zhongchou.cn/deal-show/id-140815', 'brief_introduction': '金泓言用他30年的心血，投入到昔日的皇家贡品黑鸡枞的研发和种植中，将“旧时王榭堂前宴飞入寻常百姓家”变成了现实。', 'province': '北京', 'goodtype': '果蔬食品', 'total_money': '￥2052718', 'support_num': '2665', 'finish_rate': '2053%'}, {'name': '舌尖上的五常稻花香米，“三株稻”品质良心米', 'href': 'http://www.zhongchou.cn/deal-show/id-251368', 'brief_introduction': '带动乡里乡亲致富的同时，把这正宗的五常米，直接送到千家万户。让大家都吃上真正的“五常米、帝王米！”', 'province': '黑龙江', 'goodtype': '生态养殖', 'total_money': '￥566326', 'support_num': '1940', 'finish_rate': '567%'}, {'name': '自产中宁枸杞众筹---无硫磺、最大个', 'href': 'http://www.zhongchou.cn/deal-show/id-345964', 'brief_introduction': '宁夏自治区中宁县宁安镇，世界枸杞的发源地、中国最具影响力的地理标志、宁夏五宝之首、千百年来世代期许和平安宁的地方，孕育出了世界上品质最好的枸杞。', 'province': '宁夏', 'goodtype': '休闲零食', 'total_money': '￥3329', 'support_num': '19', 'finish_rate': '111%'}, {'name': '“和平众宣”第二季：传承中国传统手工宣纸', 'href': 'http://www.zhongchou.cn/deal-show/id-322180', 'brief_introduction': '应广大师友需求，和平众宣发起人-黄和平先生新年推出传统手工宣纸“和平众宣”第二期，自留赠友皆佳；让更多的朋友感受手工宣纸之美。', 'province': '北京', 'goodtype': '手艺', 'total_money': '￥672214', 'support_num': '562', 'finish_rate': '1685%'}]\n"
     ]
    }
   ],
   "source": [
    "import requests\n",
    "import random\n",
    "from lxml import etree\n",
    "def getHTMLtext(url,headers,timeout=5):\n",
    "    try:\n",
    "        resp = requests.get(url,headers=headers,timeout=timeout)\n",
    "        resp.raise_for_status\n",
    "        resp.encoding = 'utf-8'\n",
    "        return resp.text\n",
    "    except:\n",
    "        print('Error')\n",
    "\n",
    "        \n",
    "def XpathParser(htmltext,goodlist):\n",
    "    htmlElement = etree.HTML(htmltext)\n",
    "    goods = htmlElement.xpath('//div[@class=\"ssCardICBox siteCardICBox cgjs\"]')\n",
    "#    return etree.tostring(goods[0],encoding='utf-8').decode('utf-8')\n",
    "    for good in goods:\n",
    "        # xpath返回的是列表哦\n",
    "        name = good.xpath('.//a[1]/text()')[0]\n",
    "        href = good.xpath('.//a[1]/@href')[0]\n",
    "        brief_introduction = good.xpath('.//p[1]/text()')[0]\n",
    "        temp_list = good.xpath('.//a[@class=\"site_ALink siteIlB_item\"]')\n",
    "        province = good.xpath('.//a/text()')[1]\n",
    "        if len(temp_list) == 2:\n",
    "            goodtype = good.xpath('.//a/text()')[2]\n",
    "        else:\n",
    "            goodtype = good.xpath('.//a/text()')[3]\n",
    "        total_money = good.xpath('.//p[@class=\"ftP\"]/text()')[0]\n",
    "        support_num = good.xpath('.//p[@class=\"ftP\"]/text()')[1]\n",
    "        finish_rate = good.xpath('.//p[@class=\"ftP\"]/text()')[2]\n",
    "        good_dict = {\n",
    "            'name':name,\n",
    "            'href':href,\n",
    "            'brief_introduction':brief_introduction,\n",
    "            'province':province,\n",
    "            'goodtype':goodtype,\n",
    "            'total_money':total_money,\n",
    "            'support_num':support_num,\n",
    "            'finish_rate':finish_rate\n",
    "        }\n",
    "        goodlist.append(good_dict)\n",
    "        \n",
    "if __name__ == '__main__':\n",
    "    goodlist=[]\n",
    "    url = 'http://www.zhongchou.cn/browse/id-28-re'\n",
    "    header_list = [{ 'User-Agent':'Mozilla/5.0 (Windows NT 10.0; Win64; x64) AppleWebKit/537.36 (KHTML, like Gecko) Chrome/71.0.3578.98 Safari/537.36'},\n",
    "                   { 'User-Agent':\"Mozilla/5.0 (Macintosh; U; Mac OS X Mach-O; en-US; rv:2.0a) Gecko/20040614 Firefox/3.0.0 \"},\n",
    "                   { 'User-Agent':\"Mozilla/5.0 (Macintosh; U; PPC Mac OS X 10.5; en-US; rv:1.9.0.3) Gecko/2008092414 Firefox/3.0.3\"},\n",
    "                   { 'User-Agent':\"Mozilla/5.0 (Windows NT 6.1; WOW64) AppleWebKit/537.1 (KHTML, like Gecko) Chrome/22.0.1207.1 Safari/537.1\"},\n",
    "                   { 'User-Agent':\"Mozilla/5.0 (X11; CrOS i686 2268.111.0) AppleWebKit/536.11 (KHTML, like Gecko) Chrome/20.0.1132.57 Safari/536.11\"},\n",
    "                   { 'User-Agent':\"Opera/9.80 (Windows NT 6.1; U; en) Presto/2.8.131 Version/11.11\"},\n",
    "                   { 'User-Agent':\"Opera/9.80 (Android 2.3.4; Linux; Opera mobi/adr-1107051709; U; zh-cn) Presto/2.8.149 Version/11.10\"}]\n",
    "    headers = random.choice(header_list)\n",
    "    htmltext = getHTMLtext(url,headers,timeout=5)\n",
    "    XpathParser(htmltext,goodlist)\n",
    "    print(goodlist)\n",
    "    \n",
    "    from bs4 import BeautifulSoup\n",
    "    def prettify_html(html_text):\n",
    "        soup = BeautifulSoup(html_text,'html5lib')\n",
    "        return soup.prettify()\n",
    "        \n",
    "    "
   ]
  },
  {
   "cell_type": "code",
   "execution_count": 1,
   "metadata": {
    "scrolled": true
   },
   "outputs": [
    {
     "name": "stdout",
     "output_type": "stream",
     "text": [
      "<class 'bs4.BeautifulSoup'>\n",
      "[{'name': '订制眉县猕猴桃，每年新鲜奇异果送到家', 'href': 'http://www.zhongchou.cn/deal-show/id-402334', 'brief_introduction': '我是一名返乡大学生农二代，在猕猴桃果园旁边长大，通过众筹的方式耕种更好的眉县猕猴桃。', 'province': '陕西', 'goodtype': '果蔬种植', 'total_money': '￥6814', 'support_num': '93', 'finish_rate': '682%'}, {'name': '我们是90后，我们种植自己的梦想', 'href': 'http://www.zhongchou.cn/deal-show/id-409315', 'brief_introduction': '我们计划在丑柑最佳产地之一的成都市蒲江县承包丑柑果园，聘请具有5年丑柑种植经验的技术人员进行协助管理，全程自主监管，让您吃出品质，吃出健康！', 'province': '四川', 'goodtype': '果蔬种植', 'total_money': '￥18001', 'support_num': '238', 'finish_rate': '101%'}, {'name': '【益茶众筹】包茶山！猴年要喝头采太平猴魁 全程监制手工制茶', 'href': 'http://www.zhongchou.cn/deal-show/id-391753', 'brief_introduction': '此次我们众筹是直接对接茶农，包下太平猴魁种植面积5亩的头采茶，全程监制要求手工采摘和制茶，将纯正的太平猴魁分享给每一位爱茶人。', 'province': '安徽', 'goodtype': '茶酒饮品', 'total_money': '￥30700', 'support_num': '74', 'finish_rate': '103%'}, {'name': '珍藏老白茶套装', 'href': 'http://www.zhongchou.cn/deal-show/id-407650', 'brief_introduction': '“茶与中原”2013年精制的三款有机白茶，在福鼎原产地存储三年，组合成【茶与中原 · 藏茶 | 癸巳年-福鼎老白茶】套装。', 'province': '河南', 'goodtype': '茶酒饮品', 'total_money': '￥13921', 'support_num': '26', 'finish_rate': '140%'}, {'name': '一起培育百香果新品种', 'href': 'http://www.zhongchou.cn/deal-show/id-410455', 'brief_introduction': '回家种植2年百香果，被百香果的味道所吸引。通过所学知识，搭建一块百香果实验田，用于培育新品种，让爱心果得到更完美的味道！！', 'province': '福建', 'goodtype': '果蔬种植', 'total_money': '￥10188', 'support_num': '177', 'finish_rate': '102%'}, {'name': '用一杯见底好茶焐热茶人心——为了北回归线遗存的8000株古树红茶', 'href': 'http://www.zhongchou.cn/deal-show/id-393877', 'brief_introduction': '有一种消费，叫耕者有利，食者有福——喝一杯见底好茶，用消费焐热茶人心。让无名真品走出大山，换守茶人一份应得的体面。', 'province': '广西', 'goodtype': '茶酒饮品', 'total_money': '￥12246', 'support_num': '51', 'finish_rate': '123%'}, {'name': '烟台正宗大樱桃——为惊艳味蕾而来', 'href': 'http://www.zhongchou.cn/deal-show/id-399475', 'brief_introduction': '为了能让更多的人品尝到这种“人间鲜果”，于是自己包下了樱桃园，自己种，自己摘，自己剪枝，自己发货，只为让外地的朋友也能吃到最正宗的烟台大樱桃。', 'province': '山东', 'goodtype': '果蔬种植', 'total_money': '￥7668', 'support_num': '51', 'finish_rate': '256%'}, {'name': '2016新出无硫黄花菜—农家自种铁锅烘干自然晾晒的绿色食品', 'href': 'http://www.zhongchou.cn/deal-show/id-340903', 'brief_introduction': '在全国品质鉴定会上同州金菜（黄花菜）名列同类产品之首，被国家质检总局授予地理标志产品保护。此次众筹产品为2016年农家新出铁锅烘干自然晾晒的无硫黄花菜', 'province': '陕西', 'goodtype': '果蔬种植', 'total_money': '￥3092', 'support_num': '47', 'finish_rate': '104%'}, {'name': '7棵樱桃树，让孩子吃上自己种的放心樱桃', 'href': 'http://www.zhongchou.cn/deal-show/id-361147', 'brief_introduction': '大连的7个家庭，联合专业的儿童教育机构，希望能带着孩子走进樱桃园，亲身体验种植，和樱桃树一起成长，和果实一同成熟。让孩子吃上自己种的放心樱桃。', 'province': '辽宁', 'goodtype': '生态养殖', 'total_money': '￥20894', 'support_num': '143', 'finish_rate': '105%'}, {'name': '午子仙毫---2016年头采独芽明前精品茶叶限量众筹', 'href': 'http://www.zhongchou.cn/deal-show/id-346354', 'brief_introduction': '午子仙毫：茶中皇后、国家级名优绿茶、陕西省政府外事礼品专用茶、97年获国际茶类展销会金奖、2013年获第31届巴拿马国际博览会茶类唯一金奖。', 'province': '陕西', 'goodtype': '茶酒饮品', 'total_money': '￥10117', 'support_num': '60', 'finish_rate': '102%'}, {'name': '不是每一滴蜂蜜都能走过成熟酿造期', 'href': 'http://www.zhongchou.cn/deal-show/id-356428', 'brief_introduction': '市场真蜂蜜中绝大部分是非成熟蜜。低价低成本的非成熟蜜使得老百姓根本无法享受到大自然赋予人们的这种滋补与健康的食品。', 'province': '山东', 'goodtype': '生态养殖', 'total_money': '￥4869', 'support_num': '88', 'finish_rate': '163%'}, {'name': '留坝半野生特级香菇第四期', 'href': 'http://www.zhongchou.cn/deal-show/id-385240', 'brief_introduction': '留坝香菇产自秦巴山区留坝县，是秦岭重要的森林副产品，为我国三大香菇分布地之一，也是我国两大香菇生产基地之一，以质量最优品质最佳著称，属国家星火开发项目', 'province': '陕西', 'goodtype': '果蔬种植', 'total_money': '￥2008', 'support_num': '34', 'finish_rate': '101%'}, {'name': '【好茶不私享】春季头采日照绿茶，来自大山里的茶香氤氲，带您品味真正日照绿。', 'href': 'http://www.zhongchou.cn/deal-show/id-392464', 'brief_introduction': '脚步离科技远一些，与自然便更亲近。我们是深山种茶人，这是我们的日照绿！陋室茗茶茶香里，推盏话人生，等您来。', 'province': '山东', 'goodtype': '茶酒饮品', 'total_money': '￥1009', 'support_num': '27', 'finish_rate': '101%'}, {'name': '50%的铁观音不是安溪铁观音！那就来一杯叫“春”的茶！', 'href': 'http://www.zhongchou.cn/deal-show/id-406255', 'brief_introduction': '分享一杯地道、正宗、最高性价比的安溪感德正味铁观音。', 'province': '福建', 'goodtype': '茶酒饮品', 'total_money': '￥38258', 'support_num': '175', 'finish_rate': '101%'}, {'name': '四星级无公害原生态和田大红枣第二季', 'href': 'http://www.zhongchou.cn/deal-show/id-398365', 'brief_introduction': '洗衣粉洗过的枣子防虫耐放，但洗衣粉含有的化学成分容易残留在红枣上，吃了对人体健康十分有害，所以我们大枣没有经过任何形式的洗涤，更洗不出来任何白色泡沫。', 'province': '新疆', 'goodtype': '休闲零食', 'total_money': '￥2365', 'support_num': '63', 'finish_rate': '119%'}, {'name': '新疆阿克苏温宿县合作社自筹原味纸皮核桃---假一赔十', 'href': 'http://www.zhongchou.cn/deal-show/id-345538', 'brief_introduction': '我们的核桃不但内销，而且大量出口德英加澳等国。我们的核桃外形美观、果仁澄黄饱满醇香，营养价值极高，有补气益血，温补肾肺，定喘化痰，生发益脑等功效。', 'province': '新疆', 'goodtype': '休闲零食', 'total_money': '￥3139', 'support_num': '25', 'finish_rate': '105%'}, {'name': '农家自产原生态非漂白大核桃二期', 'href': 'http://www.zhongchou.cn/deal-show/id-396187', 'brief_introduction': '商洛原生态非漂白核桃，保证2015年秋冬新出，保证手工剥皮，保证没有使用硫磺、木炭或其他任何化学药品熏蒸让核桃去皮，保证没有使用漂白剂给核桃美容。', 'province': '陕西', 'goodtype': '休闲零食', 'total_money': '￥3084', 'support_num': '30', 'finish_rate': '103%'}, {'name': '赔钱也要让您知道的好米--五常稻花香大米65元10斤', 'href': 'http://www.zhongchou.cn/deal-show/id-407455', 'brief_introduction': '1、资金用于品牌网络推广，打造自己的互联网品牌，让更多的人快速知晓。2、继续坚持做五常产区最好的大米，让更多的人品尝到真的、上好的五常大米！', 'province': '黑龙江', 'goodtype': '生物科技', 'total_money': '￥1020', 'support_num': '12', 'finish_rate': '102%'}, {'name': '三哥为之倾注一生的甜“蜜”--三哥原蜜', 'href': 'http://www.zhongchou.cn/deal-show/id-396409', 'brief_introduction': '春食一口蜜，健康一整年，健康甜蜜的生活，怎能少了真正的好蜂蜜的陪伴！良心蜂农-三哥，一辈子只愿把这一件事做好……把自家蜜蜂酿的每一滴真蜜分享给您！', 'province': '湖北', 'goodtype': '生态养殖', 'total_money': '￥20187', 'support_num': '359', 'finish_rate': '101%'}, {'name': '《不知名茶3》长白山脉已被我们承包，只差你这个森林之王', 'href': 'http://www.zhongchou.cn/deal-show/id-157543', 'brief_introduction': '从1000座山到整片森林，包山（林）种茶这件事我们从未止步。', 'province': '北京', 'goodtype': '茶酒饮品', 'total_money': '￥3209912', 'support_num': '3249', 'finish_rate': '642%'}, {'name': '【黑鸡枞教父众筹】聆听吃出的健康传奇', 'href': 'http://www.zhongchou.cn/deal-show/id-140815', 'brief_introduction': '金泓言用他30年的心血，投入到昔日的皇家贡品黑鸡枞的研发和种植中，将“旧时王榭堂前宴飞入寻常百姓家”变成了现实。', 'province': '北京', 'goodtype': '果蔬食品', 'total_money': '￥2052718', 'support_num': '2665', 'finish_rate': '2053%'}, {'name': '舌尖上的五常稻花香米，“三株稻”品质良心米', 'href': 'http://www.zhongchou.cn/deal-show/id-251368', 'brief_introduction': '带动乡里乡亲致富的同时，把这正宗的五常米，直接送到千家万户。让大家都吃上真正的“五常米、帝王米！”', 'province': '黑龙江', 'goodtype': '生态养殖', 'total_money': '￥566326', 'support_num': '1940', 'finish_rate': '567%'}, {'name': '自产中宁枸杞众筹---无硫磺、最大个', 'href': 'http://www.zhongchou.cn/deal-show/id-345964', 'brief_introduction': '宁夏自治区中宁县宁安镇，世界枸杞的发源地、中国最具影响力的地理标志、宁夏五宝之首、千百年来世代期许和平安宁的地方，孕育出了世界上品质最好的枸杞。', 'province': '宁夏', 'goodtype': '休闲零食', 'total_money': '￥3329', 'support_num': '19', 'finish_rate': '111%'}, {'name': '“和平众宣”第二季：传承中国传统手工宣纸', 'href': 'http://www.zhongchou.cn/deal-show/id-322180', 'brief_introduction': '应广大师友需求，和平众宣发起人-黄和平先生新年推出传统手工宣纸“和平众宣”第二期，自留赠友皆佳；让更多的朋友感受手工宣纸之美。', 'province': '北京', 'goodtype': '手艺', 'total_money': '￥672214', 'support_num': '562', 'finish_rate': '1685%'}]\n"
     ]
    }
   ],
   "source": [
    "import requests\n",
    "from bs4 import BeautifulSoup\n",
    "def getHTMLtext(url,headers,timeout=3):\n",
    "    trynum = 3 #设定三次尝试机会\n",
    "    while trynum:\n",
    "        try:\n",
    "            resp = requests.get(url,headers= headers,timeout=timeout)\n",
    "            resp.raise_for_status\n",
    "            resp.encoding = 'utf-8'\n",
    "            return resp.text\n",
    "        except:\n",
    "            trynum -= 1\n",
    "            timeout += timeout\n",
    "    print('url: {}  三次连接失败'.format(url))\n",
    "    return ''\n",
    "\n",
    "def bs4Paeser(urltext,goodlist):\n",
    "    soup = BeautifulSoup(urltext,'lxml')  #自带的为html.parser.   \n",
    "    print(type(soup))\n",
    "# 第一步：四种方法得到保存我们需要的数据的那一部分  \n",
    "    # 注意，find返回的是<class 'bs4.element.Tag'>\n",
    "    goodsTag = soup.find('div',class_=\"sousuoListBox clearfix\")\n",
    "    # 注意，find_all返回的是<class 'bs4.element.ResultSet'>\n",
    "    # 其可以看成一个列表，里面的每一个元素都是一个'bs4.element.Tag'类型\n",
    "    goodsTag = soup.find_all('div',attrs={\"class\":\"sousuoListBox clearfix\"})[0]\n",
    "    # 注意select利用css选择器语法，返回的是<class 'list'>列表\n",
    "    # 里面的每一个元素都是一个'bs4.element.Tag'类型\n",
    "    #但是，select_one只返回第一个符合条件的，所以是'bs4.element.Tag'类型\n",
    "    goodsTag = soup.select_one('div.sousuoListBox.clearfix') #这个div有两个类名,css选择器连着写就行\n",
    "    goodsTag = soup.select('body > div:nth-child(11) > div')  #使用浏览器自带的selector\n",
    "    \n",
    "# 第二步：找到每一种商品数据所在的那一部分，其可以视为返回一个列表\n",
    "    goodslist = soup.find_all('div',class_ = \"ssCardItem\")  #<class 'bs4.element.ResultSet'>\n",
    "    goodslist = soup('div',class_ = \"ssCardItem\")  #因为find_all这个方法特别常用，我们可以简写哦\n",
    "    goodslist = soup.select('div.ssCardItem')  #<class 'list'> \n",
    "    for everygood in goodslist:\n",
    "        name = everygood.find('a',attrs ={'class':\"siteCardICH3\"}).string  #<class 'bs4.element.NavigableString'>\n",
    "        href = everygood.find('a',attrs ={'class':\"siteCardICH3\"})['href']\n",
    "        brief_introduction = everygood.select_one('p.siteCardIC_p.souSuo').get_text()  #<class 'str'>\n",
    "        # 我们来分析下一步思路，首先我们找到含有['北京', '传统', '手艺', '宣纸']这类文本的有同一个parent\n",
    "        # 我们先找到这个parent：div.siteCardFLabelBox.siteIlB_box\n",
    "        # 接着我们使用.stripped_strings属性，得到一个只含有其所有子孙节点的文本（去除了换行符）的一个生成器\n",
    "        # 当然，我们可以将这个生成器转换成一个列表，以提取我们需要的文本\n",
    "        stringlist = list(everygood.select_one('div.siteCardFLabelBox.siteIlB_box').stripped_strings)\n",
    "        province = stringlist[0]\n",
    "        if len(stringlist)>2:\n",
    "            goodtype = stringlist[2]\n",
    "        else:\n",
    "            goodtype = stringlist[1]\n",
    "        stringlist = list(everygood.select_one('div.siteCardFData').stripped_strings)\n",
    "        total_money = stringlist[0]\n",
    "        support_num = stringlist[2]\n",
    "        finish_rate = stringlist[4]\n",
    "        good_dict = {\n",
    "                'name':name,\n",
    "                'href':href,\n",
    "                'brief_introduction':brief_introduction,\n",
    "                'province':province,\n",
    "                'goodtype':goodtype,\n",
    "                'total_money':total_money,\n",
    "                'support_num':support_num,\n",
    "                'finish_rate':finish_rate\n",
    "            }\n",
    "        goodlist.append(good_dict)\n",
    "        \n",
    "    \n",
    "if __name__ == '__main__':\n",
    "    url = 'http://www.zhongchou.cn/browse/id-28-re'\n",
    "    headers = { 'User-Agent':'Mozilla/5.0 (Windows NT 10.0; Win64; x64) AppleWebKit/537.36 (KHTML, like Gecko) Chrome/71.0.3578.98 Safari/537.36'}\n",
    "    goodlist = []\n",
    "    htmltext = getHTMLtext(url,headers)\n",
    "    bs4Paeser(htmltext,goodlist)\n",
    "    print(goodlist)"
   ]
  },
  {
   "cell_type": "code",
   "execution_count": 23,
   "metadata": {},
   "outputs": [
    {
     "data": {
      "text/plain": [
       "<div class=\"siteHtelBox\">官方咨询电话<span>010-89929506</span></div>"
      ]
     },
     "execution_count": 23,
     "metadata": {},
     "output_type": "execute_result"
    }
   ],
   "source": [
    "import requests\n",
    "\n",
    "def getHTMLtext(url,headers,timeout=3):\n",
    "    resp = requests.get(url,headers= headers,timeout=timeout)\n",
    "    resp.raise_for_status\n",
    "    resp.encoding = 'utf-8'\n",
    "    return resp.text\n",
    "\n",
    "url = 'http://www.zhongchou.cn/browse/id-28-re'\n",
    "headers = { 'User-Agent':'Mozilla/5.0 (Windows NT 10.0; Win64; x64) AppleWebKit/537.36 (KHTML, like Gecko) Chrome/71.0.3578.98 Safari/537.36'}\n",
    "htmltext = getHTMLtext(url,headers)\n",
    "soup = BeautifulSoup(htmltext)\n",
    "soup.find_all('div')[2]"
   ]
  },
  {
   "cell_type": "code",
   "execution_count": 9,
   "metadata": {
    "scrolled": false
   },
   "outputs": [
    {
     "name": "stdout",
     "output_type": "stream",
     "text": [
      "<class 'bs4.element.NavigableString'>\n"
     ]
    }
   ],
   "source": [
    "soup = BeautifulSoup('<b class=\"boldest\">Extremely bold</b>')\n",
    "tag = soup.b\n",
    "print(type(soup.string))"
   ]
  }
 ],
 "metadata": {
  "kernelspec": {
   "display_name": "Python 3",
   "language": "python",
   "name": "python3"
  },
  "language_info": {
   "codemirror_mode": {
    "name": "ipython",
    "version": 3
   },
   "file_extension": ".py",
   "mimetype": "text/x-python",
   "name": "python",
   "nbconvert_exporter": "python",
   "pygments_lexer": "ipython3",
   "version": "3.7.0"
  }
 },
 "nbformat": 4,
 "nbformat_minor": 2
}
