{
 "cells": [
  {
   "cell_type": "code",
   "execution_count": 6,
   "metadata": {
    "ExecuteTime": {
     "end_time": "2019-02-19T03:02:59.701158Z",
     "start_time": "2019-02-19T03:02:56.285557Z"
    }
   },
   "outputs": [],
   "source": [
    "from selenium import webdriver\n",
    "driver_path = r'C:\\Users\\hc_lzp\\Anaconda3\\Scripts\\chromedriver.exe'\n",
    "driver = webdriver.Chrome(executable_path= driver_path)\n",
    "print(type(driver))  #<class 'selenium.webdriver.chrome.webdriver.WebDriver'>\n",
    "url = 'https://www.baidu.com'\n",
    "driver.get(url)\n",
    "# print(driver.page_source)  #打印网页源代码"
   ]
  },
  {
   "cell_type": "code",
   "execution_count": 12,
   "metadata": {
    "ExecuteTime": {
     "end_time": "2019-02-19T03:09:00.454582Z",
     "start_time": "2019-02-19T03:08:54.845561Z"
    }
   },
   "outputs": [],
   "source": [
    "# 关闭页面的两种用法\n",
    "from selenium import webdriver\n",
    "import time\n",
    "driver = webdriver.Chrome()\n",
    "url1 = 'https://www.baidu.com'\n",
    "driver.get(url1)\n",
    "time.sleep(1)\n",
    "driver.close()  #关闭当前页面，如果只有一个页面的话会退出浏览器\n",
    "#driver.quit() #退出整个浏览器"
   ]
  },
  {
   "cell_type": "code",
   "execution_count": 21,
   "metadata": {
    "ExecuteTime": {
     "end_time": "2019-02-19T04:10:55.365682Z",
     "start_time": "2019-02-19T04:10:46.291445Z"
    }
   },
   "outputs": [
    {
     "data": {
      "text/plain": [
       "'\\n注意：如果只是提取网页上已有的元素，建议先保存driver.page_source到本地，再使用lxml.etree来解析\\n因为是用c语言实现的，所以速度较快\\n但是如果我们要对网页上的元素做一些操作，例如输入一个文本框或者点击某个按钮，那么就必须要使用selenium为我们提供的方法。\\n'"
      ]
     },
     "execution_count": 21,
     "metadata": {},
     "output_type": "execute_result"
    }
   ],
   "source": [
    "from selenium import webdriver\n",
    "import time\n",
    "driver = webdriver.Chrome()\n",
    "url = 'https://www.baidu.com'\n",
    "driver.get(url)\n",
    "\"\"\"\n",
    "    百度的搜索框所在的位置的html代码\n",
    "    <input name=\"wd\" class=\"s_ipt\" id=\"kw\" type=\"text\" maxlength=\"100\" autocomplete=\"off\">\n",
    "\"\"\"\n",
    "#根据标签名查找  inputTag = driver.find_element_by_tag_name('input')  在这里不适用，因为input标签不止一个\n",
    "#根据id查找  inputTag = driver.find_element_by_id(\"kw\")\n",
    "#根据类名查找  inputTag = driver.find_element_by_class_name('s_ipt')\n",
    "#根据name属性的值来查找  inputTag = driver.find_element_by_name('wd')\n",
    "#根据xpath语法来查找  inputTag = driver.find_element_by_xpath('//input[@class = \"s_ipt\"]')\n",
    "#根据css选择器来查找  \n",
    "inputTag = driver.find_elements_by_css_selector('input#kw')[0]\n",
    "inputTag.send_keys('学习云')  #向输入框输入对应的搜索文本\n",
    "time.sleep(1)\n",
    "inputTag.clear()\n",
    "time.sleep(2)\n",
    "driver.close()\n",
    "\n",
    "\"\"\"\n",
    "注意：如果只是提取网页上已有的元素，建议先保存driver.page_source到本地，再使用lxml.etree来解析\n",
    "因为是用c语言实现的，所以速度较快\n",
    "但是如果我们要对网页上的元素做一些操作，例如输入一个文本框或者点击某个按钮，那么就必须要使用selenium为我们提供的方法。\n",
    "\"\"\"\n"
   ]
  },
  {
   "cell_type": "markdown",
   "metadata": {
    "ExecuteTime": {
     "end_time": "2019-02-19T04:00:37.717743Z",
     "start_time": "2019-02-19T04:00:20.498841Z"
    }
   },
   "source": [
    "## 操作表单元素："
   ]
  },
  {
   "cell_type": "code",
   "execution_count": null,
   "metadata": {},
   "outputs": [],
   "source": [
    "# 操作输入框：分为两步。第一步：找到这个元素。第二步：使用send_keys(value)，将数据填充进去。示例代码如下：\n",
    " inputTag = driver.find_element_by_id('kw')\n",
    " inputTag.send_keys('python')\n",
    "# 使用clear方法可以清除输入框中的内容。示例代码如下：\n",
    " inputTag.clear()"
   ]
  },
  {
   "cell_type": "code",
   "execution_count": 32,
   "metadata": {
    "ExecuteTime": {
     "end_time": "2019-02-19T04:37:29.843179Z",
     "start_time": "2019-02-19T04:37:25.618965Z"
    }
   },
   "outputs": [],
   "source": [
    "#操作checkbox：因为要选中checkbox标签，在网页中是通过鼠标点击的。\n",
    "#因此想要选中checkbox标签，那么先选中这个标签，然后执行click事件。\n",
    "#示例代码如下：\n",
    "#bilibili的： 记住我(在登陆框的下方)\n",
    "#<input type=\"checkbox\">\n",
    "from selenium import webdriver\n",
    "import time\n",
    "url = 'https://passport.bilibili.com/login'\n",
    "driver = webdriver.Chrome()\n",
    "driver.get(url)  \n",
    "rememberTag = driver.find_element_by_xpath('//input[@type=\"checkbox\"]')\n",
    "rememberTag.click()"
   ]
  },
  {
   "cell_type": "code",
   "execution_count": 5,
   "metadata": {
    "ExecuteTime": {
     "end_time": "2019-02-19T08:06:00.775164Z",
     "start_time": "2019-02-19T08:05:51.786308Z"
    }
   },
   "outputs": [],
   "source": [
    "\"\"\"  \n",
    "选择select：select元素不能直接点击。因为点击后还需要选中元素。这时候selenium就专门为select标签提供了一个类selenium.webdriver.support.ui.Select。\n",
    "将获取到的元素当成参数传到这个类中，创建这个对象。\n",
    "以后就可以使用这个对象进行选择了。示例代码如下：\n",
    "http://sahitest.com/demo/selectTest.htm\n",
    "<select id=\"s1\">\n",
    "<option value=\"-1\">--SELECT--</option>\n",
    "<option value=\"46\">Business Phone</option>  \n",
    "<option value=\"47\">Cell Phone</option>\n",
    "<option value=\"48\">Email</option>\n",
    "<option value=\"49\">Fax</option>\n",
    "<option value=\"51\">Home Phone</option>\n",
    "<option value=\"50\">Mail</option>\n",
    "</select>\n",
    "\"\"\"\n",
    "import time\n",
    "from selenium.webdriver.support.ui import Select\n",
    "from selenium import webdriver\n",
    "driver = webdriver.Chrome()\n",
    "driver.get('http://sahitest.com/demo/selectTest.htm')\n",
    "# 选中这个标签，然后使用Select创建对象\n",
    "selectTag = Select(driver.find_element_by_id('s1'))\n",
    "# 根据索引选择\n",
    "time.sleep(2)\n",
    "selectTag.select_by_index(1)  #注意哦，是从0开始编号的\n",
    "# 根据值选择\n",
    "time.sleep(2)\n",
    "selectTag.select_by_value(\"47\")\n",
    "# 根据可视的文本选择\n",
    "time.sleep(2)\n",
    "selectTag.select_by_visible_text(\"Home Phone\")\n"
   ]
  },
  {
   "cell_type": "code",
   "execution_count": 9,
   "metadata": {
    "ExecuteTime": {
     "end_time": "2019-02-19T08:11:47.253362Z",
     "start_time": "2019-02-19T08:11:41.609410Z"
    }
   },
   "outputs": [],
   "source": [
    "\"\"\"\n",
    "操作按钮：操作按钮有很多种方式。比如单击、右击、双击等。\n",
    "这里讲一个最常用的。就是点击。直接调用click函数就可以了。示例代码如下：\n",
    "http://www.hust.edu.cn/ 将主页切换成英文\n",
    "<a title=\"English\" class=\"lang-link \" \n",
    "onclick='_addDynClicks(\"wburl\", 1458269497, 43097)' \n",
    "href=\"http://english.hust.edu.cn/\" \n",
    "target=\"_blank\">English</a>\n",
    "\"\"\"\n",
    "from selenium import webdriver\n",
    "import time\n",
    "\n",
    "driver = webdriver.Chrome()\n",
    "url = 'http://www.hust.edu.cn/'\n",
    "driver.get(url)\n",
    "englishTag = driver.find_element_by_xpath('//*[@id=\"wp_nav_w04\"]/ul/li[2]/a')\n",
    "time.sleep(2)\n",
    "englishTag.click()"
   ]
  },
  {
   "cell_type": "code",
   "execution_count": 15,
   "metadata": {
    "ExecuteTime": {
     "end_time": "2019-02-19T08:25:17.075728Z",
     "start_time": "2019-02-19T08:25:13.087972Z"
    }
   },
   "outputs": [],
   "source": [
    "\"\"\"\n",
    "行为链：ActionChains\n",
    "有时候在页面中的操作可能要有很多步，那么这时候可以使用鼠标行为链类ActionChains来完成。\n",
    "比如现在要将鼠标移动到某个元素上并执行点击事件。那么示例代码如下：\n",
    "使用华科的图书馆系统搜索图书\n",
    "\"\"\"\n",
    "from selenium import webdriver\n",
    "import time \n",
    "from selenium.webdriver.common.action_chains import ActionChains\n",
    "driver = webdriver.Chrome()\n",
    "url = 'http://www.lib.hust.edu.cn/'\n",
    "driver.get(url)\n",
    "inputTag = driver.find_element_by_xpath('//*[@id=\"ThSearchBox\"]')  #找到搜索框 input标签\n",
    "submitTag = driver.find_element_by_xpath('//*[@id=\"searchCon\"]/div[3]/form/div/div/input')  #找到搜索框右边的检索按钮\n",
    "\n",
    "actions = ActionChains(driver)\n",
    "actions.move_to_element(inputTag)\n",
    "actions.send_keys_to_element(inputTag,'python')\n",
    "# actions.move_to_element(submitTag)\n",
    "actions.click(submitTag)\n",
    "actions.perform()\n",
    "\"\"\"\n",
    "还有更多的鼠标相关的操作。\n",
    "click_and_hold(element)：点击但不松开鼠标。\n",
    "context_click(element)：右键点击。\n",
    "double_click(element)：双击。 \n",
    "更多方法请参考：\n",
    "http://selenium-python.readthedocs.io/api.html\n",
    "\"\"\""
   ]
  },
  {
   "cell_type": "code",
   "execution_count": 21,
   "metadata": {
    "ExecuteTime": {
     "end_time": "2019-02-19T08:39:29.973886Z",
     "start_time": "2019-02-19T08:39:26.248259Z"
    }
   },
   "outputs": [
    {
     "name": "stdout",
     "output_type": "stream",
     "text": [
      "{'domain': 'www.lib.hust.edu.cn', 'httpOnly': True, 'name': 'ASP.NET_SessionId', 'path': '/', 'secure': False, 'value': 'kgva3k5yx2xrksumx35oohyc'}\n",
      "{'domain': 'www.lib.hust.edu.cn', 'expiry': 1550594369.428978, 'httpOnly': False, 'name': 'ip-hust', 'path': '/', 'secure': False, 'value': '222.20.2.178'}\n",
      "{'domain': '.hust.edu.cn', 'expiry': 1566290369, 'httpOnly': False, 'name': 'UM_distinctid', 'path': '/', 'secure': False, 'value': '16904e8f486888-08cab075276b1d-1333063-240000-16904e8f4875b5'}\n",
      "{'domain': 'www.lib.hust.edu.cn', 'expiry': 1566290369, 'httpOnly': False, 'name': 'CNZZDATA5814509', 'path': '/', 'secure': False, 'value': 'cnzz_eid%3D1674486809-1550563830-%26ntime%3D1550563830'}\n",
      "++++++++++++++++++++++++++++++++++++++++++++++++++\n",
      "{'domain': '.hust.edu.cn', 'expiry': 1566290369, 'httpOnly': False, 'name': 'UM_distinctid', 'path': '/', 'secure': False, 'value': '16904e8f486888-08cab075276b1d-1333063-240000-16904e8f4875b5'}\n",
      "--------------------------------------------------\n",
      "None\n",
      "**************************************************\n",
      "[]\n"
     ]
    }
   ],
   "source": [
    "\"\"\"\n",
    "Cookie操作：\n",
    "获取所有的cookie：\n",
    "     for cookie in driver.get_cookies():\n",
    "         print(cookie)\n",
    "根据cookie的key获取value：\n",
    "     value = driver.get_cookie(key)\n",
    "删除所有的cookie：\n",
    "     driver.delete_all_cookies()\n",
    "删除某个cookie：\n",
    "     driver.delete_cookie(key)\n",
    "\"\"\"\n",
    "from selenium import webdriver\n",
    "import time \n",
    "driver = webdriver.Chrome()\n",
    "url = 'http://www.lib.hust.edu.cn/'\n",
    "driver.get(url)\n",
    "for cookie in driver.get_cookies():\n",
    "         print(cookie)\n",
    "print('+'*50)\n",
    "\n",
    "value = driver.get_cookie('UM_distinctid')\n",
    "print(value)\n",
    "print('-'*50)\n",
    "\n",
    "value = driver.delete_cookie('UM_distinctid')\n",
    "print(value)\n",
    "print('*'*50)\n",
    "\n",
    "driver.delete_all_cookies()\n",
    "print(driver.get_cookies())"
   ]
  },
  {
   "cell_type": "code",
   "execution_count": 32,
   "metadata": {
    "ExecuteTime": {
     "end_time": "2019-02-19T08:56:04.886334Z",
     "start_time": "2019-02-19T08:55:58.870082Z"
    }
   },
   "outputs": [
    {
     "name": "stdout",
     "output_type": "stream",
     "text": [
      "<selenium.webdriver.remote.webelement.WebElement (session=\"c48cca30858a042a4b3dfbe0b8ddf7fb\", element=\"0.46549120445476855-1\")>\n"
     ]
    }
   ],
   "source": [
    "\"\"\"\n",
    "页面等待：\n",
    "现在的网页越来越多采用了 Ajax 技术，这样程序便不能确定何时某个元素完全加载出来了。\n",
    "如果实际页面等待时间过长导致某个dom元素还没出来，\n",
    "但是你的代码直接使用了这个WebElement，\n",
    "那么就会抛出NullPointer的异常。为了解决这个问题。\n",
    "Selenium 提供了两种等待方式：一种是隐式等待、一种是显式等待。\n",
    "\"\"\"\n",
    "\"\"\"\n",
    "隐式等待：调用driver.implicitly_wait。  有点类似于time.sleep()\n",
    "在获取不可用的元素之前，会先等待5秒中的时间。示例代码如下：\n",
    "\"\"\"\n",
    "from selenium import webdriver\n",
    "# 请求网页\n",
    "driver = webdriver.Chrome()\n",
    "driver.get(\"https://www.douban.com/\")\n",
    "#driver.implicitly_wait(5)\n",
    "#driver.find_element_by_class_name('aaaa')\n",
    "\"\"\"\n",
    "显示等待：显示等待是表明某个条件成立后才执行获取元素的操作。也可以在等待的时候指定一个最大的时间，\n",
    "如果超过这个时间那么就抛出一个异常。\n",
    "显示等待应该使用selenium.webdriver.support.excepted_conditions期望的条件和\n",
    "selenium.webdriver.support.ui.WebDriverWait来配合完成.示例代码如下：\n",
    "\"\"\"\n",
    "from selenium.webdriver.common.by import By\n",
    "from selenium.webdriver.support.ui import WebDriverWait\n",
    "from selenium.webdriver.support import expected_conditions as EC\n",
    "try:\n",
    "    element = WebDriverWait(driver, 1).until(\n",
    "    EC.presence_of_element_located((By.ID, \"anony-time\"))\n",
    "    )\n",
    "    print(element)\n",
    "    #<selenium.webdriver.remote.webelement.WebElement (session=\"c48cca30858a042a4b3dfbe0b8ddf7fb\", element=\"0.46549120445476855-1\")>\n",
    "except Exception  as e:\n",
    "    print('在指定时间内未找到对应的元素')\n",
    "finally: \n",
    "    driver.quit()\n",
    "    \n",
    "\"\"\"\n",
    "一些其他的等待条件：\n",
    "presence_of_element_located：某个元素已经加载完毕了。\n",
    "presence_of_all_emement_located：网页中所有满足条件的元素都加载完毕了。\n",
    "element_to_be_cliable：某个元素是可以点击了。\n",
    "更多条件请参考：http://selenium-python.readthedocs.io/waits.html\n",
    "\"\"\""
   ]
  },
  {
   "cell_type": "code",
   "execution_count": 35,
   "metadata": {
    "ExecuteTime": {
     "end_time": "2019-02-19T09:03:03.058016Z",
     "start_time": "2019-02-19T09:02:57.173104Z"
    }
   },
   "outputs": [
    {
     "name": "stderr",
     "output_type": "stream",
     "text": [
      "C:\\Users\\hc_lzp\\Anaconda3\\lib\\site-packages\\ipykernel_launcher.py:15: DeprecationWarning: use driver.switch_to.window instead\n",
      "  from ipykernel import kernelapp as app\n"
     ]
    }
   ],
   "source": [
    "\"\"\"\n",
    "切换页面：\n",
    "有时候窗口中有很多子tab页面。这时候肯定是需要进行切换的。\n",
    "selenium提供了一个叫做switch_to_window来进行切换，具体切换到哪个页面，\n",
    "可以从driver.window_handles中找到。示例代码如下：\n",
    "\"\"\"\n",
    "import time\n",
    "from selenium import webdriver\n",
    "driver = webdriver.Chrome()\n",
    "driver.get(\"https://www.douban.com/\")\n",
    "# 打开一个新的页面  这里是执行了java_script的代码\n",
    "driver.execute_script(\"window.open('https://www.baidu.com/')\")\n",
    "# 切换到这个新的页面中\n",
    "time.sleep(2)\n",
    "driver.switch_to_window(driver.window_handles[1]) #从0开始计数的哦\n",
    "# python3里面用：driver.switch_to.window(driver.window_handles[1]) #从0开始计数的哦"
   ]
  },
  {
   "cell_type": "code",
   "execution_count": 41,
   "metadata": {
    "ExecuteTime": {
     "end_time": "2019-02-19T09:11:19.817488Z",
     "start_time": "2019-02-19T09:11:16.825263Z"
    }
   },
   "outputs": [
    {
     "name": "stderr",
     "output_type": "stream",
     "text": [
      "C:\\Users\\hc_lzp\\Anaconda3\\lib\\site-packages\\ipykernel_launcher.py:10: DeprecationWarning: use options instead of chrome_options\n",
      "  # Remove the CWD from sys.path while we load stuff.\n"
     ]
    }
   ],
   "source": [
    "\"\"\"\n",
    "设置代理ip：\n",
    "有时候频繁爬取一些网页。服务器发现你是爬虫后会封掉你的ip地址。\n",
    "这时候我们可以更改代理ip。更改代理ip，不同的浏览器有不同的实现方式。\n",
    "这里以Chrome浏览器为例来讲解：\n",
    "\"\"\"\n",
    "from selenium import webdriver\n",
    "options = webdriver.ChromeOptions()\n",
    "options.add_argument(\"--proxy-server=http://111.177.48.211:9999\")\n",
    "driver = webdriver.Chrome(chrome_options=options)\n",
    "driver.get('http://httpbin.org/ip')"
   ]
  },
  {
   "cell_type": "code",
   "execution_count": 45,
   "metadata": {
    "ExecuteTime": {
     "end_time": "2019-02-19T09:15:55.437579Z",
     "start_time": "2019-02-19T09:15:51.957181Z"
    }
   },
   "outputs": [
    {
     "name": "stdout",
     "output_type": "stream",
     "text": [
      "<class 'selenium.webdriver.remote.webelement.WebElement'>\n",
      "s_ipt\n"
     ]
    }
   ],
   "source": [
    "\"\"\"\n",
    "WebElement元素：\n",
    "from selenium.webdriver.remote.webelement import WebElement类\n",
    "这个类是每个获取出来的元素的所属类。\n",
    "有一些常用的属性： \n",
    "get_attribute：这个标签的某个属性的值。 \n",
    "screentshot：获取当前页面的截图。这个方法只能在driver上使用。\n",
    "driver的对象类，也是继承自WebElement。\n",
    "更多请阅读相关源代码。\n",
    "\"\"\"\n",
    "from selenium import webdriver\n",
    "import time\n",
    "driver = webdriver.Chrome()\n",
    "url = 'https://www.baidu.com'\n",
    "\"\"\"\n",
    "    百度的搜索框所在的位置的html代码\n",
    "    <input name=\"wd\" class=\"s_ipt\" id=\"kw\" type=\"text\" maxlength=\"100\" autocomplete=\"off\">\n",
    "\"\"\"\n",
    "driver.get(url)\n",
    "inputTag = driver.find_element_by_id(\"kw\")\n",
    "print(type(inputTag))    #<class 'selenium.webdriver.remote.webelement.WebElement'>\n",
    "print(inputTag.get_attribute('class'))   #s_ipt"
   ]
  },
  {
   "cell_type": "code",
   "execution_count": null,
   "metadata": {},
   "outputs": [],
   "source": []
  },
  {
   "cell_type": "code",
   "execution_count": null,
   "metadata": {},
   "outputs": [],
   "source": []
  },
  {
   "cell_type": "code",
   "execution_count": null,
   "metadata": {},
   "outputs": [],
   "source": []
  }
 ],
 "metadata": {
  "kernelspec": {
   "display_name": "Python 3",
   "language": "python",
   "name": "python3"
  },
  "language_info": {
   "codemirror_mode": {
    "name": "ipython",
    "version": 3
   },
   "file_extension": ".py",
   "mimetype": "text/x-python",
   "name": "python",
   "nbconvert_exporter": "python",
   "pygments_lexer": "ipython3",
   "version": "3.7.0"
  }
 },
 "nbformat": 4,
 "nbformat_minor": 2
}
